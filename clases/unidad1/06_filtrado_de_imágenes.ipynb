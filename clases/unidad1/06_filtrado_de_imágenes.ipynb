{
 "cells": [
  {
   "cell_type": "markdown",
   "metadata": {},
   "source": [
    "# Filtrado de imágenes\n",
    "\n",
    "### Contenidos\n",
    "\n",
    "- Filtrado con máscaras en frecuencia\n",
    "- Filtrado con convolución 2D\n"
   ]
  },
  {
   "cell_type": "code",
   "execution_count": null,
   "metadata": {},
   "outputs": [],
   "source": [
    "%matplotlib notebook\n",
    "import numpy as np\n",
    "import matplotlib.pyplot as plt\n",
    "from scipy import fftpack\n",
    "from ipywidgets import interact, IntSlider\n",
    "\n",
    "def color2bw(img):\n",
    "    return np.dot(img, [0.299, 0.587, 0.114])\n",
    "\n",
    "img_example = color2bw(plt.imread(\"../images/InsInformatica.jpg\"))  "
   ]
  },
  {
   "cell_type": "markdown",
   "metadata": {},
   "source": [
    "\n",
    "> Una multiplicación en el espacio de frecuencia equivale a una convolución en el espacio original\n",
    "\n",
    "¿Qué ocurre con la imagen original cuando énmascaramos una parte del espectro?\n",
    "\n",
    "### Filtro pasa-bajos: Eliminando las frecuencias altas\n",
    "\n",
    "Forma 1: Multiplicando el espectro de magnitud por una ventana rectangular"
   ]
  },
  {
   "cell_type": "code",
   "execution_count": null,
   "metadata": {},
   "outputs": [],
   "source": [
    "fig, ax = plt.subplots(1, 2, figsize=(8, 3.5), tight_layout=True);\n",
    "\n",
    "cy, cx = img_example.shape[0]/2, img_example.shape[1]/2\n",
    "x = np.arange(0, img_example.shape[1]); \n",
    "y = np.arange(0, img_example.shape[0]);\n",
    "X, Y = np.meshgrid(x, y)\n",
    "S_img = fftpack.fft2(img_example)\n",
    "\n",
    "def update(sigma):\n",
    "    for ax_ in ax:\n",
    "        ax_.cla()\n",
    "        ax_.axis('off')\n",
    "    mask = np.zeros_like(S_img, dtype=np.float32)\n",
    "    mask[int(cy-sigma):int(cy+sigma), \n",
    "         int(cx-sigma):int(cx+sigma)] = 1\n",
    "    im = ax[1].imshow(fftpack.fftshift(np.log(1+np.abs(S_img)))*mask, cmap=plt.cm.Spectral_r)\n",
    "    reconstructed_img = np.real(fftpack.ifft2(fftpack.ifftshift(fftpack.fftshift(S_img)*mask)))\n",
    "    im = ax[0].imshow(reconstructed_img, cmap=plt.cm.Greys_r)\n",
    "    \n",
    "interact(update, \n",
    "         sigma=IntSlider(min=1, max=200.0, value=200, description=\"Width\"));"
   ]
  },
  {
   "cell_type": "markdown",
   "metadata": {},
   "source": [
    "Forma 2: Multiplicando el espectro de magnitud por una ventana Gaussiana"
   ]
  },
  {
   "cell_type": "code",
   "execution_count": null,
   "metadata": {},
   "outputs": [],
   "source": [
    "from ipywidgets import FloatSlider\n",
    "fig, ax = plt.subplots(1, 2, figsize=(8, 3.5), tight_layout=True);\n",
    "\n",
    "def update(sigma):\n",
    "    for ax_ in ax:\n",
    "        ax_.cla()\n",
    "        ax_.axis('off')\n",
    "    mask = 1e-8 + np.exp(-(((X-cx)/sigma)**2 + ((Y-cy)/sigma)**2))\n",
    "    im = ax[1].imshow(fftpack.fftshift(np.log(1+np.abs(S_img)))*mask, cmap=plt.cm.Spectral_r)\n",
    "    reconstructed_img = np.real(fftpack.ifft2(fftpack.ifftshift(fftpack.fftshift(S_img)*mask)))\n",
    "    im = ax[0].imshow(reconstructed_img, cmap=plt.cm.Greys_r)\n",
    "    \n",
    "interact(update, \n",
    "         sigma=FloatSlider(min=1, max=200.0, value=200, description=\"$\\sigma$\"));"
   ]
  },
  {
   "cell_type": "markdown",
   "metadata": {},
   "source": [
    "### Filtro pasa-altos: Eliminando las frecuencias bajas"
   ]
  },
  {
   "cell_type": "code",
   "execution_count": null,
   "metadata": {},
   "outputs": [],
   "source": [
    "fig, ax = plt.subplots(1, 2, figsize=(8, 3.5), tight_layout=True);\n",
    "\n",
    "def update(sigma=1):\n",
    "    for ax_ in ax:\n",
    "        ax_.cla()\n",
    "        ax_.axis('off')\n",
    "    mask = 1.0  - np.exp(-(((X-cx)/sigma)**2 + ((Y-cy)/sigma)**2)) \n",
    "    im = ax[1].imshow(fftpack.fftshift(np.log(1+np.abs(S_img)))*mask, cmap=plt.cm.Spectral_r)\n",
    "    reconstructed_img = np.real(fftpack.ifft2(fftpack.ifftshift(fftpack.fftshift(S_img)*mask)))\n",
    "    im = ax[0].imshow(reconstructed_img, cmap=plt.cm.Greys_r)\n",
    "    \n",
    "interact(update, sigma=FloatSlider(min=1, max=100.0, value=1, description=\"$\\sigma$\"));"
   ]
  },
  {
   "cell_type": "markdown",
   "metadata": {},
   "source": [
    "### Filtro pasa-banda y rechaza-banda"
   ]
  },
  {
   "cell_type": "code",
   "execution_count": null,
   "metadata": {},
   "outputs": [],
   "source": [
    "fig, ax = plt.subplots(1, 2, figsize=(8, 3.5), tight_layout=True);\n",
    "\n",
    "def update(sigma1=1, sigma2=1):\n",
    "    for ax_ in ax:\n",
    "        ax_.cla()\n",
    "        ax_.axis('off')\n",
    "    mask1 = np.exp(-(((X-cx)/sigma1)**2 + ((Y-cy)/sigma1)**2)) \n",
    "    mask2 = np.exp(-(((X-cx)/sigma2)**2 + ((Y-cy)/sigma2)**2)) \n",
    "    mask = mask1 - mask2\n",
    "    im = ax[1].imshow(fftpack.fftshift(np.log(1+np.abs(S_img)))*mask, cmap=plt.cm.Spectral_r)\n",
    "    reconstructed_img = np.real(fftpack.ifft2(fftpack.ifftshift(fftpack.fftshift(S_img)*mask)))\n",
    "    im = ax[0].imshow(reconstructed_img, cmap=plt.cm.Greys_r)\n",
    "    \n",
    "interact(update, \n",
    "         sigma1=FloatSlider(min=1, max=200.0, value=200, description=\"$\\sigma_1$\"),\n",
    "         sigma2=FloatSlider(min=1, max=200.0, value=1, description=\"$\\sigma_2$\"));"
   ]
  },
  {
   "cell_type": "markdown",
   "metadata": {},
   "source": [
    "## Convolucion 2D\n",
    "\n",
    "También podemos filtrar una imagen en su espacio original usando la convolución bidimensional\n",
    "\n",
    "El elemento que se convoluciona con la imagen se denomina filtro o kernel de convolución\n",
    "\n",
    "\n",
    "<img src=\"../images/filter2D_convolution.gif\" width=\"600\">\n"
   ]
  },
  {
   "cell_type": "markdown",
   "metadata": {},
   "source": [
    "> ¿Qué hacen estos los siguientes kernels/filtros?\n",
    "\n",
    "$$\n",
    "\\begin{pmatrix}\n",
    "1 & 1 & 1 & 1 & 1 \\\\\n",
    "1 & 1 & 1 & 1 & 1 \\\\\n",
    "1 & 1 & 1 & 1 & 1 \\\\\n",
    "1 & 1 & 1 & 1 & 1 \\\\\n",
    "1 & 1 & 1 & 1 & 1 \\\\\n",
    "\\end{pmatrix} \\frac{1}{25} \n",
    "\\qquad\n",
    "\\begin{pmatrix}\n",
    "0.018 & 0.082 & 0.1353 & 0.082 & 0.018 \\\\\n",
    "0.082 & 0.3678 & 0.6065 & 0.3678 & 0.082 \\\\\n",
    "0.1353 & 0.6065 & 1 & 0.6065 & 0.1353 \\\\\n",
    "0.082 & 0.3678 & 0.6065 & 0.3678 & 0.082 \\\\\n",
    "0.018 & 0.082 & 0.1353 & 0.082 & 0.018 \\\\\n",
    "\\end{pmatrix} \\frac{1}{\\sqrt{2\\pi}}\n",
    "$$\n",
    "\n",
    "\n"
   ]
  },
  {
   "cell_type": "markdown",
   "metadata": {},
   "source": [
    "Scipy ofrece dos funciones para hacer convolución\n",
    "\n",
    "- convolve2d: Convolución tradicional (más rápido cuando la imagen y el filtro son pequeños)\n",
    "- fftconvolve: Convolución multiplicando en frecuencia (más rápido cuando la imagen y el filtro son grandes)"
   ]
  },
  {
   "cell_type": "code",
   "execution_count": null,
   "metadata": {},
   "outputs": [],
   "source": [
    "from scipy.signal import fftconvolve, convolve2d\n",
    "\n",
    "fig, ax = plt.subplots(1, 2, figsize=(8, 3.5), tight_layout=True);\n",
    "\n",
    "def update(size=1):\n",
    "    for ax_ in ax:\n",
    "        ax_.cla()\n",
    "        ax_.axis('off')\n",
    "    kernel = np.ones(shape=(size, size))/size**2\n",
    "    img_filtered1 = fftconvolve(img_example, kernel, mode='same');\n",
    "    img_filtered2 = convolve2d(img_example, kernel, mode='same');\n",
    "    im = ax[0].imshow(img_filtered1, cmap=plt.cm.Greys_r)\n",
    "    im = ax[1].imshow(img_filtered2, cmap=plt.cm.Greys_r)\n",
    "    \n",
    "interact(update, size=IntSlider(min=1, max=100.0, value=1, description=\"Size\"));"
   ]
  },
  {
   "cell_type": "markdown",
   "metadata": {},
   "source": [
    "### Detección de borde con filtro Sobel\n",
    "\n",
    "Los siguientes filtros se conocen como sobel horizontal y vertical\n",
    "\n",
    "<img src=\"../images/filtro_gradient.gif\" width=\"600\">"
   ]
  },
  {
   "cell_type": "code",
   "execution_count": null,
   "metadata": {},
   "outputs": [],
   "source": [
    "fig = plt.figure(figsize=(7, 7), tight_layout=True)\n",
    "sobelx = fftconvolve(img_example, [[-1, 0, 1],[-2, 0, 2], [-1, 0, 1]], mode='full')\n",
    "ax =  plt.subplot2grid((2, 2), (0, 0))\n",
    "ax.matshow(sobelx, cmap=plt.cm.Greys_r); \n",
    "ax.axis('off')\n",
    "sobely = fftconvolve(img_example, [[-1, -2, -1],[0, 0, 0], [1, 2, 1]], mode='full')\n",
    "ax = plt.subplot2grid((2, 2), (0, 1))\n",
    "ax.matshow(sobely, cmap=plt.cm.Greys_r);\n",
    "ax.axis('off')\n",
    "ax = plt.subplot2grid((2, 2), (1, 0), colspan=2)\n",
    "ax.matshow(np.sqrt(sobely**2 + sobelx**2)[3:-3,3:-3], cmap=plt.cm.Greys_r); \n",
    "ax.axis('off');\n"
   ]
  },
  {
   "cell_type": "code",
   "execution_count": null,
   "metadata": {},
   "outputs": [],
   "source": []
  }
 ],
 "metadata": {
  "kernelspec": {
   "display_name": "Python 3",
   "language": "python",
   "name": "python3"
  },
  "language_info": {
   "codemirror_mode": {
    "name": "ipython",
    "version": 3
   },
   "file_extension": ".py",
   "mimetype": "text/x-python",
   "name": "python",
   "nbconvert_exporter": "python",
   "pygments_lexer": "ipython3",
   "version": "3.8.1"
  }
 },
 "nbformat": 4,
 "nbformat_minor": 4
}
