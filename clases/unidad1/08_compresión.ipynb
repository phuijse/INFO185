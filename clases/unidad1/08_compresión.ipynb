{
 "cells": [
  {
   "cell_type": "markdown",
   "metadata": {},
   "source": [
    "# Transmisión y Compresión \n",
    "\n",
    "## Contenidos\n",
    "- Esquema transmisor de Shannon en detalle\n",
    "- Algoritmo JPEG\n"
   ]
  },
  {
   "cell_type": "markdown",
   "metadata": {},
   "source": [
    "## Ancho de banda de un video\n",
    "\n",
    "> ¿Cúanto pesa una imagen RGB de 1920x1080?\n",
    "\n",
    "$$\n",
    "1920 \\cdot 1080 \\cdot 3 \\cdot \\text{size(uint8)} \\approx 50 \\text{[Mb]}\n",
    "$$\n",
    "\n",
    "Tradicionalmente un video es una secuencia de imágenes a 24 cuadros por segundo (fps)\n",
    "\n",
    "\n",
    "> ¿Cuánto ancho de banda se necesita para ver una película en tiempo real?\n",
    "\n",
    "$$\n",
    "50 \\text{[Mb]} \\cdot 24 [1/s] = 1200 \\text{[Mb/s]} = 1.2 \\text{[Gb/s]}\n",
    "$$\n",
    "\n",
    "Pero los mejores planes de internet actuales en Chile ofrecen del orden de $500 \\text{[Mb/s]}$ de bajada\n",
    "\n",
    "> ¿Cómo pueden entonces funcionar los servicios de streaming?"
   ]
  },
  {
   "cell_type": "markdown",
   "metadata": {},
   "source": [
    "## Nuevamente el modelo de Shannon\n",
    "\n",
    "<img src=\"../images/shannon-diagram.svg\" width=\"500\">\n",
    "\n",
    "\n",
    "El **transmisor** puede subdividirse en cuatro etapas\n",
    "\n",
    "<img src=\"../images/transmitter.svg\" width=\"600\">\n",
    "\n",
    "donde\n",
    "\n",
    "### Transformación\n",
    "\n",
    "Tarea: Cambiar la representación de los datos\n",
    "\n",
    "Objetivo: Representar los datos tal que se disminuya la redundancia y correlación\n"
   ]
  },
  {
   "cell_type": "markdown",
   "metadata": {},
   "source": [
    "### Cuantización (opcional)\n",
    "\n",
    "Tarea: Reducir los valores posibles de la seña. El conjunto reducido de valores se llama **diccionario**\n",
    "\n",
    "Objetivo: Reducir la cantidad de bits que se usan para representar la señal\n",
    "\n",
    "#### Ejemplo\n",
    "\n",
    "Observe la diferencia de cuantizar un valor flotante usando \n",
    "- 8 bits: diccionario con 256 valores\n",
    "- 4 bits: diccionario con 16 valores"
   ]
  },
  {
   "cell_type": "code",
   "execution_count": null,
   "metadata": {},
   "outputs": [],
   "source": [
    "%matplotlib notebook\n",
    "import matplotlib.pyplot as plt\n",
    "import numpy as np\n",
    "\n",
    "t = np.arange(100)\n",
    "s1 = np.array([int(x)/2**8 for x in 2**8*(np.sin(2.0*np.pi*t*0.05) + 1)/2])\n",
    "s2 = np.array([int(x)/2**4 for x in 2**4*(np.sin(2.0*np.pi*t*0.05) + 1)/2])\n",
    "fig, ax = plt.subplots(3, figsize=(6, 4), tight_layout=True, sharex=True)\n",
    "ax[0].plot(t, s1)\n",
    "ax[1].plot(t, s2, 'x')\n",
    "ax[2].plot(t, np.abs(s2-s1));"
   ]
  },
  {
   "cell_type": "markdown",
   "metadata": {},
   "source": [
    "### Codificación de fuente\n",
    "\n",
    "Tarea: Convertir el diccionario del cuantizador en un **código de largo variable** \n",
    "\n",
    "Objetivo: Que la señal sea más eficiente de transmitir\n",
    "\n",
    "\n",
    "### Codificación de canal\n",
    "\n",
    "Tarea: Robustecer el código \n",
    "\n",
    "Objetivo: Que el código puede transmitirse sin errores"
   ]
  },
  {
   "cell_type": "markdown",
   "metadata": {},
   "source": [
    "## Compresión y codificación\n",
    "\n",
    "> Codificar la información usando \"menos bits\" que la representación original\n",
    "\n",
    "\n",
    "La compresión puede ser de tipo\n",
    "- *Lossless* (sin pérdidas): Los datos originales pueden reconstruirse perfectamente\n",
    "- *Lossy* (con pérdidas): Se reconstruye una versión aproximada de los datos originales\n",
    "\n",
    "Si usamos cuantización entonces estamos asumiendo pérdidas\n"
   ]
  },
  {
   "cell_type": "markdown",
   "metadata": {},
   "source": [
    "##  Algoritmo Joint Photographic Experts Group (JPEG)\n",
    "\n",
    "> Es un algoritmo de compresión con pérdidas (lossy) para imágenes digitales ampliamente utilizado\n",
    "\n",
    "\n",
    "<img src=\"../images/JPEG.svg\" width=\"800\"> \n",
    "\n",
    "### Primer paso\n",
    "\n",
    "Se convierte la imagen de RGB a YCbCr\n",
    "\n",
    "Luego se reduce la resolución de los canales chroma con respecto al canal de luminancia\n",
    "\n",
    "<img src=\"../images/422.jpg\" width=\"600\">\n",
    "\n",
    "Al hacer esto explota una característica del sistema visual humano\n",
    "\n",
    "> Somos más sensibles a la iluminación que al color\n",
    "\n",
    "Ejemplo:"
   ]
  },
  {
   "cell_type": "code",
   "execution_count": null,
   "metadata": {},
   "outputs": [],
   "source": [
    "import cv2\n",
    "from ipywidgets import interact, SelectionSlider, IntSlider\n",
    "\n",
    "fig, ax = plt.subplots(figsize=(6, 4), tight_layout=True)\n",
    "im = cv2.imread(\"../images/lobo.jpg\")\n",
    "# Transformar a YCrCb\n",
    "im_ycrcb = cv2.cvtColor(im, cv2.COLOR_BGR2YCrCb)\n",
    "Y, Cb, Cr = im_ycrcb.T\n",
    "    \n",
    "def update(ss, ssy):\n",
    "    ax.cla(); ax.axis('off')\n",
    "    Y_q = np.repeat(Y[::4//ssy, :], 4//ssy, axis=0)\n",
    "    Cb_q = np.repeat(Cb[::4//ss, :], 4//ss, axis=0)\n",
    "    Cr_q = np.repeat(Cr[::4//ss, :], 4//ss, axis=0)\n",
    "    # Juntar y convertir en RGB\n",
    "    im_ycrcb = np.stack((Y_q, Cb_q, Cr_q)).T\n",
    "    rgb = cv2.cvtColor(im_ycrcb.astype('uint8'), cv2.COLOR_YCrCb2RGB)    \n",
    "    ax.imshow(rgb);\n",
    "\n",
    "interact(update, ss=SelectionSlider(options=[1, 2, 4], value=4, description=\"SS Cb/Cr\"), \n",
    "         ssy=SelectionSlider(options=[1, 2, 4], value=4, description=\"SS Y\"));"
   ]
  },
  {
   "cell_type": "markdown",
   "metadata": {},
   "source": [
    "### Segundo paso\n",
    "\n",
    "Separar la imagen en bloques disjuntos de 8x8 píxeles\n",
    "\n",
    "Cada bloque se lleva al dominio de la frecuencia usando la transformada discreta coseno\n"
   ]
  },
  {
   "cell_type": "markdown",
   "metadata": {},
   "source": [
    "#### Discrete Cosine Transform (DCT)\n",
    "\n",
    "Sea una señal discreta y bidimensional $g[n_1, n_2]$ con índices $n_1 \\in [0, N_1-1]$ y $n_2 \\in [0, N_2-1]$ su DCT es \n",
    "\n",
    "$$\n",
    "G_C[k_1, k_2] = \\sum_{n_1=0}^{N_1-1} \\sum_{n_2=0}^{N_2-1} 4 g[n_1, n_2] \\cos \\left ( \\frac{\\pi k_1}{2N_1}(2n_1+1)  \\right) \\cos \\left ( \\frac{\\pi k_2}{2N_2}(2n_2+1)  \\right) \n",
    "$$\n",
    "y su inversa\n",
    "\n",
    "$$\n",
    "g[n_1, n_2] = \\frac{1}{N_1 N_2}\\sum_{k_1=0}^{N_1-1} \\sum_{k_2=0}^{N_2-1} w[k_1]w[k_2]G[k_1, k_2] \\cos \\left ( \\frac{\\pi k_1}{2N_1}(2n_1+1)  \\right) \\cos \\left ( \\frac{\\pi k_2}{2N_2}(2n_2+1)  \\right), \n",
    "$$\n",
    "\n",
    "donde \n",
    "$$\n",
    "w[k] =\\begin{cases}\n",
    "1/2 & \\text{ssi} ~~ k=0\\\\\n",
    "1 & \\text{ssi} ~~ k \\neq 0\n",
    "\\end{cases} \n",
    "$$\n",
    "\n",
    "La DCT bidimensional:\n",
    "- se puede descomponer en 2 aplicaciones de la DCT 1D\n",
    "- es lineal, y cumple el principio de conservación de energía\n",
    "\n",
    "> Podemos llevar una imagen al espacio de frecuencias sin pérdida de información\n",
    "\n",
    "\n",
    "- es equivalente a la DFT de una señal \"simetricamente extendida\":\n",
    "\n",
    "$$\n",
    "y[k] =\\begin{cases}\n",
    "x[k] & \\text{ssi} ~~ k<N\\\\\n",
    "x[2N-1-k] & \\text{ssi} ~~ N \\leq k < 2N - 1 \n",
    "\\end{cases} \n",
    "$$\n",
    "- Es decir que podemos usar el algoritmo FFT para calcular eficientemente la DCT\n",
    "\n",
    "**Ojo:** La convolución en espacio original no es multiplicación en el espacio DCT\n",
    "\n",
    "\n",
    "#### Ejemplo de imagen simetricamente extendida (la DCT no tiene artefactos de borde):"
   ]
  },
  {
   "cell_type": "code",
   "execution_count": null,
   "metadata": {},
   "outputs": [],
   "source": [
    "im_bw = cv2.cvtColor(im, cv2.COLOR_BGR2YCrCb)[:, :, 0]\n",
    "im_bw_sym = np.hstack((im_bw, np.fliplr(im_bw)))\n",
    "im_bw_sym = np.vstack((np.flipud(im_bw_sym), im_bw_sym))\n",
    "fig, ax = plt.subplots(figsize=(8, 5), tight_layout=True)\n",
    "ax.axis('off')\n",
    "ax.imshow(im_bw_sym, cmap=plt.cm.Greys_r);"
   ]
  },
  {
   "cell_type": "markdown",
   "metadata": {},
   "source": [
    "#### Ejemplo: Transformación de una imagen usando DCT en bloques de 8x8"
   ]
  },
  {
   "cell_type": "code",
   "execution_count": null,
   "metadata": {},
   "outputs": [],
   "source": [
    "from scipy import fftpack\n",
    "\n",
    "DCT2 = lambda g, norm='ortho': fftpack.dct( fftpack.dct(g, axis=0, norm=norm), axis=1, norm=norm)\n",
    "IDCT2 = lambda G, norm='ortho': fftpack.idct( fftpack.idct(G, axis=0, norm=norm), axis=1, norm=norm)\n",
    "\n",
    "imsize = im_bw.shape\n",
    "dct_matrix = np.zeros(shape=imsize)\n",
    "\n",
    "for i in range(0, imsize[0], 8):\n",
    "    for j in range(0, imsize[1], 8):\n",
    "        dct_matrix[i:(i+8),j:(j+8)] = DCT2(im_bw[i:(i+8),j:(j+8)] )"
   ]
  },
  {
   "cell_type": "markdown",
   "metadata": {},
   "source": [
    "¿Cómo se ven uno a uno la DCT de los bloques?"
   ]
  },
  {
   "cell_type": "code",
   "execution_count": null,
   "metadata": {},
   "outputs": [],
   "source": [
    "fig, ax = plt.subplots(1, 2, figsize=(8, 4), tight_layout=True, sharey=True)\n",
    "\n",
    "def plot_values(ax, tile, fontsize=14):\n",
    "    mid = (tile.max() + tile.min())/2.\n",
    "    for i in range(8):\n",
    "        for j in range(8):\n",
    "            label = tile[i, j]\n",
    "            color = 'black' if label > mid else 'white'\n",
    "            ax.text(j, i, int(label), fontsize=fontsize, \n",
    "                    color=color, ha='center', va='center')\n",
    "            \n",
    "            \n",
    "def update(block_idx=1):\n",
    "    for ax_ in ax:\n",
    "        ax_.cla(); ax_.axis('off')\n",
    "    # Bloque de 8x8\n",
    "    tile = im_bw[8*block_idx:8*block_idx+8, 8*block_idx:8*block_idx+8]\n",
    "    ax[0].imshow(tile, cmap=plt.cm.Greys_r, vmin=im_bw.min(), vmax=im_bw.max())\n",
    "    ax[0].set_title(\"%d 8x8 image block\" %(block_idx)); \n",
    "    plot_values(ax[0], tile)\n",
    "    # DCT 8x8\n",
    "    tile = dct_matrix[8*block_idx:8*block_idx+8, 8*block_idx:8*block_idx+8]\n",
    "    ax[1].imshow(tile, cmap=plt.cm.Greys_r, vmin=dct_matrix.min(), vmax=dct_matrix.max())\n",
    "    ax[1].set_title(\"8x8 DCT\")\n",
    "    plot_values(ax[1], tile)\n",
    "\n",
    "interact(update, block_idx=IntSlider(min=0, max=100, value=0, description=\"Bloque\"));"
   ]
  },
  {
   "cell_type": "markdown",
   "metadata": {},
   "source": [
    "Una imagen tiene mucha correlación entre sus píxeles vecinos\n",
    "\n",
    "> Al llevarla al espacio de frecuencia esta información se concentra en el centro del espectro (esquina superior izquierda)\n",
    "\n",
    "Notemos que muchos de los coeficientes de alta frecuencia de la DCT son cero\n",
    "\n",
    "> La DCT ha disminuido la redundancia en la información\n"
   ]
  },
  {
   "cell_type": "markdown",
   "metadata": {},
   "source": [
    "### Tercer paso\n",
    "\n",
    "Cuantizar cada matriz DCT y reducir la \"cantidad de valores posibles\"\n",
    "\n",
    "> La cuantización es una operación de redondeo o truncamiento\n",
    "\n",
    "#### Cuantización escalar\n",
    "\n",
    "Se define por en forma general como: \n",
    "- número de niveles $L$, \n",
    "- $L+1$ fronteras de decisión $d_i$ \n",
    "- $L$ valor de las representaciones $r_i$\n",
    "\n",
    "$$\n",
    "\\begin{equation}\n",
    "    Q(x)=\n",
    "    \\begin{cases}\n",
    "      r_0, & x \\in [d_0, d_1) \\\\\n",
    "      r_1, & x \\in [d_1, d_2) \\\\\n",
    "      \\vdots & \\vdots \\\\\n",
    "      r_i, & x \\in [d_i, d_{i+1}) \\\\\n",
    "      \\vdots & \\vdots \\\\\n",
    "      r_{L-1}& x \\in [d_{L-1}, d_{L}) \\\\\n",
    "    \\end{cases}\n",
    "\\end{equation}\n",
    "$$\n",
    "\n",
    "#### Cuantización uniforme\n",
    "\n",
    "Es un caso particular de cuantización uniforme donde la diferencia entre los niveles $q$ es constante\n",
    "\n",
    "Si $d_0 = -V$ y $d_L = V$, una cuantización uniforme de $L$ niveles sería\n",
    "\n",
    "$$\n",
    "q = \\frac{2V}{L}\n",
    "$$\n",
    "\n",
    "$$\n",
    "d_{i} = d_{i-1} + q  = d_0 + i q = -V + i \\frac{2V}{L}\n",
    "$$\n",
    "y el valor de representación es el punto medio de cada nivel\n",
    "$$\n",
    "r_i = \\frac{1}{2} (d_i + d_{i+1}) = -d_0 + \\frac{2i+1}{2} \\Delta = -V + (2i+1) \\frac{V}{L}\n",
    "$$ \n",
    "\n",
    "También podríamos definir $q$ y usar la fórmula\n",
    "\n",
    "$$\n",
    "x_q = -V + \\frac{q}{2} + q\\cdot \\text{floor}\\left(\\frac{x+V}{q} \\right)\n",
    "$$\n",
    " \n",
    "\n",
    "\n",
    "#### Error de cuantización\n",
    "\n",
    "Es la distancia entre el valor real y su versión cuantizada\n",
    "$$\n",
    "d_c = \\|Q(x) -x\\|^2\n",
    "$$"
   ]
  },
  {
   "cell_type": "code",
   "execution_count": null,
   "metadata": {},
   "outputs": [],
   "source": [
    "def quantize_scalar(x):\n",
    "    x2 = x.copy()\n",
    "    x2[(x >= -1) & (x < -0.9)] = -1.\n",
    "    x2[(x >= -0.9) & (x < -0.75)] = -0.8\n",
    "    x2[(x >= -0.75) & (x < -0.25)] = -0.4\n",
    "    x2[(x >= -0.25) & (x < 0.25)] = 0.0\n",
    "    x2[(x >= 0.25) & (x < 0.75)] = 0.4\n",
    "    x2[(x >= 0.75) & (x < 0.9)] = 0.8\n",
    "    x2[(x >= 0.9) ] = 1.\n",
    "    return x2\n",
    "\n",
    "def quantize_uniform(x, x_min, q):\n",
    "    return x_min + q/2 + np.floor((x-x_min)/q)*q\n",
    "\n",
    "t = np.arange(100, step=0.1)\n",
    "s1 = np.sin(2.0*np.pi*t*0.05)\n",
    "#s2 = quantize_scalar(s1)\n",
    "s2 = quantize_uniform(s1, s1.min(), q=0.01)\n",
    "\n",
    "fig, ax = plt.subplots(3, figsize=(6, 4), tight_layout=True, sharex=True)\n",
    "ax[0].plot(t, s1)\n",
    "ax[1].plot(t, s2)\n",
    "ax[2].plot(t, np.power(s2-s1, 2));\n",
    "print(f\"MSE: {np.mean(np.power(s2-s1, 2))}\")"
   ]
  },
  {
   "cell_type": "markdown",
   "metadata": {},
   "source": [
    "#### Cuantización en JPEG\n",
    "\n",
    "> JPEG cuantiza en el espacio de frecuencia\n",
    "\n",
    "- Cada bloque de 8x8 de componentes DCT se cuantiza por separado\n",
    "- El nivel de cada uno de los componentes se redondea según una matriz de cuantización Q\n",
    "- Q fue diseñada tal que componentes de alta frecuencia se cuantizan en menos niveles"
   ]
  },
  {
   "cell_type": "code",
   "execution_count": null,
   "metadata": {},
   "outputs": [],
   "source": [
    "Q = np.array([[16, 11, 10, 16, 24, 40, 51, 61],\n",
    "              [12, 12, 14, 19, 26, 58, 60, 55],\n",
    "              [14, 13, 16, 24, 40, 57, 69, 56],\n",
    "              [14, 17, 22, 29, 51, 87, 80, 62],\n",
    "              [18, 22, 37, 56, 68, 109, 103, 77],\n",
    "              [24, 35, 55, 64, 81, 104, 113, 92],\n",
    "              [49, 64, 78, 87, 103, 121, 120, 101],\n",
    "              [72, 92, 95, 98, 112, 100, 103, 99]])"
   ]
  },
  {
   "cell_type": "markdown",
   "metadata": {},
   "source": [
    "> El bloque cuantizado se obtiene como $\\text{ROUND}\\left(\\frac{G_C}{Q}\\right)$"
   ]
  },
  {
   "cell_type": "code",
   "execution_count": null,
   "metadata": {},
   "outputs": [],
   "source": [
    "fig, ax = plt.subplots(1, 3, figsize=(8, 3), tight_layout=True)\n",
    "def update(block_idx=1):\n",
    "    for ax_ in ax:\n",
    "        ax_.cla(); ax_.axis('off')\n",
    "    tile = im_bw[8*block_idx:8*block_idx+8, 8*block_idx:8*block_idx+8]\n",
    "    ax[0].imshow(tile, cmap=plt.cm.Greys_r)\n",
    "    ax[0].set_title(\"8x8 %d'th block\" %(block_idx)); \n",
    "    plot_values(ax[0], tile, fontsize=12)\n",
    "    \n",
    "    tile = dct_matrix[8*block_idx:8*block_idx+8, 8*block_idx:8*block_idx+8]\n",
    "    ax[1].imshow(tile, cmap=plt.cm.Greys_r)\n",
    "    ax[1].set_title(\"8x8 DCT\\n %d nonzero\" %(np.count_nonzero(tile))); \n",
    "    plot_values(ax[1], tile, fontsize=12)\n",
    "    \n",
    "    quant = np.round(tile/Q)\n",
    "    ax[2].imshow(quant, cmap=plt.cm.Greys_r)\n",
    "    ax[2].set_title(\"8x8 Quantized\\n%d nonzero\" %(np.count_nonzero(quant))); \n",
    "    plot_values(ax[2], quant, fontsize=12)\n",
    "\n",
    "interact(update, block_idx=IntSlider(min=0, max=100, value=0, description=\"Block tile\"));"
   ]
  },
  {
   "cell_type": "code",
   "execution_count": null,
   "metadata": {},
   "outputs": [],
   "source": [
    "from ipywidgets import FloatSlider\n",
    "\n",
    "area = np.prod(im_bw.shape)\n",
    "fig, ax = plt.subplots(1, 2, figsize=(8, 3), tight_layout=True)\n",
    "\n",
    "def update(percent):\n",
    "    for ax_ in ax.ravel():\n",
    "        ax_.cla(); ax_.axis('off')\n",
    "    im_dct = np.zeros(imsize)\n",
    "    nnz = np.zeros(dct_matrix.shape)\n",
    "    if (percent < 50):\n",
    "        S = 5000/percent\n",
    "    else:\n",
    "        S = 200 - 2*percent \n",
    "    Q_dyn = np.floor((S*Q + 50) / 100);\n",
    "    Q_dyn[Q_dyn == 0] = 1\n",
    "    for i in range(0, imsize[0], 8):\n",
    "        for j in range(0, imsize[1], 8):\n",
    "            quant = np.round(dct_matrix[i:(i+8),j:(j+8)]/Q_dyn) \n",
    "            im_dct[i:(i+8),j:(j+8)] = IDCT2(quant)\n",
    "            nnz[i, j] = np.count_nonzero(quant)\n",
    "    \n",
    "    ax[0].imshow(im_bw, cmap=plt.cm.Greys_r); \n",
    "    ax[0].set_title(\"%0.2f MB\" %(area*8/1e+6))\n",
    "    ax[1].imshow(im_dct, cmap=plt.cm.Greys_r); \n",
    "    ax[1].set_title(\"%0.2f MB\" %(np.sum(nnz)*8/1e+6))\n",
    "interact(update, percent=FloatSlider(min=0.01, max=99.99, step=0.01, value=34, continuous_update=False, \n",
    "                                     description=\"Nivel de compresión\"));"
   ]
  },
  {
   "cell_type": "markdown",
   "metadata": {},
   "source": [
    "### Cuarto paso\n",
    "\n",
    "Para entender el cuarto paso necesitamos estudiar **Teoría de la Información**"
   ]
  },
  {
   "cell_type": "code",
   "execution_count": null,
   "metadata": {},
   "outputs": [],
   "source": []
  }
 ],
 "metadata": {
  "kernelspec": {
   "display_name": "Python 3",
   "language": "python",
   "name": "python3"
  },
  "language_info": {
   "codemirror_mode": {
    "name": "ipython",
    "version": 3
   },
   "file_extension": ".py",
   "mimetype": "text/x-python",
   "name": "python",
   "nbconvert_exporter": "python",
   "pygments_lexer": "ipython3",
   "version": "3.8.1"
  },
  "toc": {
   "base_numbering": 1,
   "nav_menu": {},
   "number_sections": true,
   "sideBar": true,
   "skip_h1_title": false,
   "title_cell": "Table of Contents",
   "title_sidebar": "Contents",
   "toc_cell": false,
   "toc_position": {},
   "toc_section_display": true,
   "toc_window_display": false
  }
 },
 "nbformat": 4,
 "nbformat_minor": 4
}
