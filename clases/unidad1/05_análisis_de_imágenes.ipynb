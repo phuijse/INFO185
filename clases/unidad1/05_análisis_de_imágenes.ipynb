{
 "cells": [
  {
   "cell_type": "markdown",
   "metadata": {
    "slideshow": {
     "slide_type": "slide"
    }
   },
   "source": [
    "# Análisis de imágenes en frecuencia\n",
    "\n",
    "### Contenidos\n",
    "\n",
    "- Transformada de Fourier bidimensional\n",
    "- Espectro de imágenes sintéticas y naturales\n"
   ]
  },
  {
   "cell_type": "code",
   "execution_count": null,
   "metadata": {
    "slideshow": {
     "slide_type": "skip"
    }
   },
   "outputs": [],
   "source": [
    "%matplotlib notebook\n",
    "import numpy as np\n",
    "import matplotlib.pyplot as plt\n",
    "from scipy import fftpack\n",
    "from ipywidgets import interact, IntSlider\n",
    "\n",
    "def color2bw(img):\n",
    "    return np.dot(img, [0.299, 0.587, 0.114])"
   ]
  },
  {
   "cell_type": "markdown",
   "metadata": {
    "slideshow": {
     "slide_type": "slide"
    }
   },
   "source": [
    "## Transformada de Fourier bidimensional\n",
    "\n",
    "La DFT se puede aplicar a funciones multi-dimensionales\n",
    "\n",
    "En el caso discreto de una señal bidimensional $g[n_1, n_2]$ con índices $n_1 \\in [0, N_1-1]$ y $n_2 \\in [0, N_2-1]$ tenemos\n",
    "\n",
    "$$\n",
    "G[k_1, k_2] = \\sum_{n_1=0}^{N_1-1} \\sum_{n_2=0}^{N_2-1} g[n_1, n_2] \\exp \\left ( -j2\\pi  \\left[\\frac{n_1 k_1}{N_1} + \\frac{n_2 k_2}{N_2} \\right] \\right)\n",
    "$$\n",
    "y su inversa\n",
    "\n",
    "$$\n",
    "g[n_1, n_2] = \\frac{1}{N_1 N_2}\\sum_{k_1=0}^{N_1-1} \\sum_{k_2=0}^{N_2-1} G[k_1, k_2] \\exp \\left ( j2\\pi  \\left[\\frac{n_1 k_1}{N_1} + \\frac{n_2 k_2}{N_2} \\right] \\right)\n",
    "$$\n",
    "\n",
    "Notemos que\n",
    "\n",
    "$$\n",
    "\\begin{align}\n",
    "G[k_1, k_2] &= \\sum_{n_1=0}^{N_1-1} \\left(\\sum_{n_2=0}^{N_2-1} g[n_1, n_2] \\exp \\left (-j2\\pi \\frac{n_2 k_2}{N_2}\\right) \\right) \\exp \\left (-j2\\pi \\frac{n_1 k_1}{N_1}\\right) \\\\\n",
    "&= \\sum_{n_1=0}^{N_1-1} \\hat g_{n_2}[n_1] \\exp \\left (-j2\\pi \\frac{n_1 k_1}{N_1}\\right),\n",
    "\\end{align}\n",
    "$$\n",
    "\n",
    "> la DFT 2D se puede calcular usando repetidas veces la DFT de una dimensión."
   ]
  },
  {
   "cell_type": "markdown",
   "metadata": {
    "slideshow": {
     "slide_type": "slide"
    }
   },
   "source": [
    "## Visualización de la base de Fourier bidimensional\n",
    "\n"
   ]
  },
  {
   "cell_type": "code",
   "execution_count": null,
   "metadata": {
    "slideshow": {
     "slide_type": "fragment"
    }
   },
   "outputs": [],
   "source": [
    "x = np.arange(0, 32, step=1)\n",
    "X, Y = np.meshgrid(x, x)\n",
    "fig, ax = plt.subplots(9, 9, figsize=(6, 6), tight_layout=True)\n",
    "\n",
    "fourier_basis = np.cos\n",
    "#fourier_basis = np.sin\n",
    "\n",
    "for n in range(9):\n",
    "    for m in range(9):\n",
    "        ax[n, m].matshow(fourier_basis(2.0*np.pi*X*m/len(x) + 2.0*np.pi*Y*n/len(x)), \n",
    "                         cmap=plt.cm.RdBu_r, vmin=-1, vmax=1)\n",
    "        ax[n, m].axis('off')"
   ]
  },
  {
   "cell_type": "markdown",
   "metadata": {
    "slideshow": {
     "slide_type": "slide"
    }
   },
   "source": [
    "## Espectro de una imagen \n",
    "\n",
    "- Podemos usar la transformada de Fourier 2D para obtener el espectro de amplitud de una imagen\n",
    "- Los ejes de la DFT son las frecuencias espaciales"
   ]
  },
  {
   "cell_type": "code",
   "execution_count": null,
   "metadata": {
    "slideshow": {
     "slide_type": "fragment"
    }
   },
   "outputs": [],
   "source": [
    "img_color = plt.imread('../images/valdivia.jpg')\n",
    "img_bw = color2bw(img_color)[:, 300:]\n",
    "\n",
    "fig, ax = plt.subplots(1, 2, figsize=(6, 3), tight_layout=True)\n",
    "ax[0].imshow(img_bw, cmap=plt.cm.Greys_r) \n",
    "ax[0].set_title(\"Imagen\")\n",
    "S = fftpack.fft2(img_bw)\n",
    "ax[1].imshow(fftpack.fftshift(np.abs(S)), cmap=plt.cm.Spectral_r,\n",
    "             extent=[-img_bw.shape[1]//2, img_bw.shape[1]//2, \n",
    "                     -img_bw.shape[0]//2, img_bw.shape[0]//2])\n",
    "ax[1].set_title(\"Espectro de amplitud\");"
   ]
  },
  {
   "cell_type": "markdown",
   "metadata": {
    "slideshow": {
     "slide_type": "fragment"
    }
   },
   "source": [
    "La energía está muy concentrada en el componente central!\n",
    "\n",
    "Para visualizar mejor el espectro de una imagen natural se recomienda usar\n",
    "\n",
    "$$\n",
    "\\log(|\\text{fft2}(I)|+1)\n",
    "$$\n",
    "\n",
    "de esta forma el componente central no es tan dominante"
   ]
  },
  {
   "cell_type": "code",
   "execution_count": null,
   "metadata": {
    "slideshow": {
     "slide_type": "fragment"
    }
   },
   "outputs": [],
   "source": [
    "fig, ax = plt.subplots(1, 2, figsize=(6, 3), tight_layout=True)\n",
    "ax[0].imshow(img_bw, cmap=plt.cm.Greys_r) \n",
    "ax[0].set_title(\"Imagen\")\n",
    "S = fftpack.fft2(img_bw)\n",
    "ax[1].imshow(fftpack.fftshift(np.log(1+np.abs(S))), cmap=plt.cm.Spectral_r,\n",
    "             extent=[-img_bw.shape[1]//2, img_bw.shape[1]//2, \n",
    "                     -img_bw.shape[0]//2, img_bw.shape[0]//2])\n",
    "ax[1].set_title(\"Espectro de amplitud\");"
   ]
  },
  {
   "cell_type": "markdown",
   "metadata": {},
   "source": [
    "> ¿A qué corresponde las estructuras que aparecen en el espectro de amplitud? \n",
    "\n",
    "Para entrenarnos en la interpretación del espectro conviene estudiar espectros de imágenes sintéticas"
   ]
  },
  {
   "cell_type": "markdown",
   "metadata": {
    "slideshow": {
     "slide_type": "slide"
    }
   },
   "source": [
    "## Espectro de una imagen sintética\n",
    "\n",
    "\n",
    "#### Impulsos\n",
    "\n",
    "Dos impulsos en el espectro corresponde a una sinusoide en el espacio original y viceversa\n",
    "\n",
    "La posición de los impulsos está asociada a la frecuencia de la sinusoide"
   ]
  },
  {
   "cell_type": "code",
   "execution_count": null,
   "metadata": {
    "slideshow": {
     "slide_type": "fragment"
    }
   },
   "outputs": [],
   "source": [
    "fig, ax = plt.subplots(1, 2, figsize=(8, 4), tight_layout=True); \n",
    "\n",
    "def update(x_pos=0, y_pos=0):\n",
    "    S_img = np.zeros(shape=(80, 80)); \n",
    "    S_img[x_pos, y_pos] = 1.0; S_img[-x_pos, -y_pos] = 1.0;\n",
    "    #S_img[-x_pos, y_pos] = 1.0; S_img[x_pos, -y_pos] = 1.0; \n",
    "    ax[1].set_title(\"Espectro de amplitud\");  \n",
    "    ax[0].set_title(\"Imagen\")\n",
    "    im = ax[1].imshow(fftpack.fftshift(S_img), cmap=plt.cm.Spectral_r,\n",
    "                      extent=[-40, 40, 40, -40])\n",
    "    im = ax[0].imshow(np.real(fftpack.ifft2(S_img)), cmap=plt.cm.Greys_r);     \n",
    "interact(update, \n",
    "         x_pos=IntSlider(min=-39, max=39, value=1, description=\"x posición\"),\n",
    "         y_pos=IntSlider(min=-39, max=39, value=0, description=\"y posición\"));"
   ]
  },
  {
   "cell_type": "code",
   "execution_count": null,
   "metadata": {
    "slideshow": {
     "slide_type": "fragment"
    }
   },
   "outputs": [],
   "source": [
    "fig, ax = plt.subplots(1, 2, figsize=(8, 4), tight_layout=True); \n",
    "\n",
    "def update(x_f=0, y_f=0):\n",
    "    x = np.arange(0, 80)\n",
    "    X, Y = np.meshgrid(x, x)\n",
    "    img = np.cos(2.0*np.pi*X*x_f/80 + 2.0*np.pi*Y*y_f/80)\n",
    "    # img = np.cos(2.0*np.pi*X*x_f/80) + np.cos(2.0*np.pi*Y*y_f/80)\n",
    "    # img = np.cos(2.0*np.pi*X*x_f/80)*np.cos(2.0*np.pi*Y*y_f/80)\n",
    "    S_img = np.abs(fftpack.fft2(img))    \n",
    "    ax[1].set_title(\"Espectro de amplitud\");  ax[0].set_title(\"Imagen\")\n",
    "    im = ax[1].imshow(fftpack.fftshift(S_img), cmap=plt.cm.Spectral_r,\n",
    "                      extent=[-40, 40, 40, -40])\n",
    "    im = ax[0].imshow(img, cmap=plt.cm.Greys_r); \n",
    "    \n",
    "interact(update, \n",
    "         x_f=IntSlider(min=0, max=39, value=0, description=\"x frecuencia\"),\n",
    "         y_f=IntSlider(min=0, max=39, value=0, description=\"y frecuencia\"));"
   ]
  },
  {
   "cell_type": "markdown",
   "metadata": {
    "slideshow": {
     "slide_type": "slide"
    }
   },
   "source": [
    "#### Espectro de una Linea\n",
    "\n",
    "Una línea en la imagen es una línea en el espectro (con otra orientación) "
   ]
  },
  {
   "cell_type": "code",
   "execution_count": null,
   "metadata": {
    "slideshow": {
     "slide_type": "fragment"
    }
   },
   "outputs": [],
   "source": [
    "fig, ax = plt.subplots(1, 2, figsize=(8, 4), tight_layout=True); \n",
    "\n",
    "def update(pix_angle=0):\n",
    "    img = np.zeros(shape=(80, 80));     \n",
    "    for i in range(80):\n",
    "        img[i, int(i - 2*pix_angle*i/80 + pix_angle)] = 1 \n",
    "        \n",
    "    ax[1].set_title(\"Magnitude spectrum\");  \n",
    "    ax[0].set_title(\"Image\")\n",
    "    S_img = np.abs(fftpack.fft2(img))\n",
    "    im = ax[1].imshow(fftpack.fftshift(S_img), cmap=plt.cm.Spectral_r, \n",
    "                      extent=[-40, 40, 40, -40])\n",
    "    im = ax[0].imshow(img, cmap=plt.cm.Greys_r); \n",
    "    \n",
    "interact(update, pix_angle=IntSlider(min=0, max=79, value=0));"
   ]
  },
  {
   "cell_type": "markdown",
   "metadata": {
    "slideshow": {
     "slide_type": "fragment"
    }
   },
   "source": [
    "##### ¿Cómo se explica esto? \n",
    "\n",
    "> Consideremos primero el caso donde la rotación es 40 pixeles (linea vertical)\n",
    "\n",
    "Notemos que en este caso la componente vertical y horizontal pueden independizarse\n",
    "\n",
    "Esto se conoce como **señal separable**"
   ]
  },
  {
   "cell_type": "code",
   "execution_count": null,
   "metadata": {
    "slideshow": {
     "slide_type": "fragment"
    }
   },
   "outputs": [],
   "source": [
    "A = np.array([[0, 0, 1, 0, 0]])\n",
    "B = np.array([[1, 1, 1, 1, 1]])\n",
    "A*B.T"
   ]
  },
  {
   "cell_type": "markdown",
   "metadata": {
    "slideshow": {
     "slide_type": "fragment"
    }
   },
   "source": [
    "#### Propiedad:  \n",
    "\n",
    "> La DFT 2D de una señal separable equivale a la multiplicación de las dos DFT 1D\n",
    "\n",
    "Una señal es sepable si\n",
    "\n",
    "$$\n",
    "g[n_1, n_2] = g_1[n_1] g_2[n_2]\n",
    "$$\n",
    "\n",
    "Aplicando esto en la DFT\n",
    "$$\n",
    "\\begin{align}\n",
    "G[k_1, k_2] &= \\sum_{n_1=0}^{N_1-1} \\sum_{n_2=0}^{N_2-1} g_1[n_1] g_2[n_2] \\exp \\left ( -j2\\pi  \\left[\\frac{n_1 k_1}{N_1} + \\frac{n_2 k_2}{N_2} \\right] \\right) \\nonumber \\\\\n",
    "& = \\sum_{n_1=0}^{N_1-1} g_1[n_1] \\exp \\left ( -j2\\pi \\frac{n_1 k_1}{N_1} \\right)  \\sum_{n_2=0}^{N_2-1} g_2[n_2] \\exp \\left ( -j2\\pi\\frac{n_2 k_2}{N_2}  \\right) \\nonumber \\\\\n",
    "\\end{align}\n",
    "$$\n",
    "\n",
    "Usemos esta propiedad en nuestro ejemplo"
   ]
  },
  {
   "cell_type": "markdown",
   "metadata": {},
   "source": [
    "Transformada de Fourier de un impulso en el origen: Una señal constante"
   ]
  },
  {
   "cell_type": "code",
   "execution_count": null,
   "metadata": {},
   "outputs": [],
   "source": [
    "S1 = fftpack.fftshift(np.abs(fftpack.fft(np.array([[0, 0, 1, 0, 0]]))))\n",
    "print(S1)"
   ]
  },
  {
   "cell_type": "markdown",
   "metadata": {},
   "source": [
    "Transformada de Fourier de una señal constante: Un impulso en el origen"
   ]
  },
  {
   "cell_type": "code",
   "execution_count": null,
   "metadata": {},
   "outputs": [],
   "source": [
    "S2 = fftpack.fftshift(np.abs(fftpack.fft(np.array([[1, 1, 1, 1, 1]]))))\n",
    "print(S2)"
   ]
  },
  {
   "cell_type": "markdown",
   "metadata": {},
   "source": [
    "**Resultado:** Una linea rotada en 90º con respecto a la original"
   ]
  },
  {
   "cell_type": "code",
   "execution_count": null,
   "metadata": {},
   "outputs": [],
   "source": [
    "S1*S2.T"
   ]
  },
  {
   "cell_type": "markdown",
   "metadata": {
    "slideshow": {
     "slide_type": "fragment"
    }
   },
   "source": [
    "> Concentremos ahora en los ángulos (en píxeles) distintos de 0, 40 y 80 \n",
    "\n",
    "¿Por qué pareciera repetirse la linea?\n",
    "\n",
    "¿A qué corresponde el efecto  observado?\n",
    "\n",
    "Para responder esta pregunta debemos recordar una propiedad de la DFT\n",
    "\n",
    "#### Propiedad: \n",
    "\n",
    ">La DFT es periodica\n",
    "\n",
    "En este caso el \"artefacto\" que observamos se debe a que en ciertos ángulos los bordes no calzan"
   ]
  },
  {
   "cell_type": "code",
   "execution_count": null,
   "metadata": {},
   "outputs": [],
   "source": [
    "fig, ax = plt.subplots(1, 2, figsize=(6, 3.5), tight_layout=True); \n",
    "\n",
    "def update(pix_angle=0):\n",
    "    img = np.zeros(shape=(60, 60));\n",
    "    for i in range(120):\n",
    "        for k1 in range(-4, 4):\n",
    "            for k2 in range(-4, 4):\n",
    "                if np.abs(i+20*k2) < 60 and np.abs(20*k1 + int(i - 2*pix_angle*i/20 + pix_angle)) < 60:\n",
    "                    img[i +20*k2, 20*k1 + int(i - 2*pix_angle*i/20 + pix_angle)] = 1 \n",
    "    \n",
    "    ax[0].matshow(img, cmap=plt.cm.Greys_r); \n",
    "    ax[1].matshow(img[20:-20,20:-20], cmap=plt.cm.Greys_r); \n",
    "interact(update, pix_angle=IntSlider(min=0, max=20, value=0));"
   ]
  },
  {
   "cell_type": "markdown",
   "metadata": {
    "slideshow": {
     "slide_type": "slide"
    }
   },
   "source": [
    "#### Espectro de un rectangulo\n",
    "\n",
    "Un rectangulo en la imagen es un sinc en el espectro (y viceverza)"
   ]
  },
  {
   "cell_type": "code",
   "execution_count": null,
   "metadata": {
    "slideshow": {
     "slide_type": "fragment"
    }
   },
   "outputs": [],
   "source": [
    "fig, ax = plt.subplots(1, 2, figsize=(8, 4), tight_layout=True); \n",
    "\n",
    "def update(width=1):\n",
    "    img = np.zeros(shape=(80, 80)); #S_img[0, 0] = 0.0;\n",
    "    img[40-width:40+width, 40-width:40+width] = 1.0; \n",
    "    ax[1].set_title(\"Espectro de amplitud\")\n",
    "    S_img = np.abs(fftpack.fft2(img))\n",
    "    im = ax[1].imshow(fftpack.fftshift(S_img), cmap=plt.cm.Spectral_r,\n",
    "                      extent=[-40, 40, 40, -40])\n",
    "    ax[0].set_title(\"Imagen\")\n",
    "    im = ax[0].imshow(img, cmap=plt.cm.Greys_r); \n",
    "\n",
    "interact(update, width=IntSlider(min=1, max=39, value=0, description=\"Tamaño\"));"
   ]
  },
  {
   "cell_type": "markdown",
   "metadata": {
    "slideshow": {
     "slide_type": "slide"
    }
   },
   "source": [
    "#### Espectro de una Gaussiana\n",
    "\n",
    "Una Gaussiana en el espectro es una Gaussiana en el espacio original"
   ]
  },
  {
   "cell_type": "code",
   "execution_count": null,
   "metadata": {
    "slideshow": {
     "slide_type": "fragment"
    }
   },
   "outputs": [],
   "source": [
    "from ipywidgets import FloatSlider\n",
    "fig, ax = plt.subplots(1, 2, figsize=(8, 4), tight_layout=True); \n",
    "\n",
    "def update(bandwidth=1.0):\n",
    "    x = np.linspace(-100, 100, num=500)\n",
    "    X, Y = np.meshgrid(x, x)\n",
    "    img = np.exp(-0.5*(X**2 + Y**2)/bandwidth**2)\n",
    "    ax[1].set_title(\"Espectro de amplitud\")\n",
    "    S_img = np.abs(fftpack.fft2(img))\n",
    "    im = ax[1].imshow(fftpack.fftshift(S_img),  cmap=plt.cm.Spectral_r,\n",
    "                      extent=[-250, 250, 250, -250])\n",
    "    ax[0].set_title(\"Imagen\")\n",
    "    im = ax[0].imshow(img, cmap=plt.cm.Greys_r);     \n",
    "    \n",
    "interact(update, bandwidth=FloatSlider(min=0.1, max=50.0, value=0, description=\"Ancho\"));"
   ]
  },
  {
   "cell_type": "markdown",
   "metadata": {
    "slideshow": {
     "slide_type": "slide"
    }
   },
   "source": [
    "#### Espectro de ruido blanco\n",
    "\n",
    "Una imagen de ruido blanco y su espectro"
   ]
  },
  {
   "cell_type": "code",
   "execution_count": null,
   "metadata": {
    "slideshow": {
     "slide_type": "fragment"
    }
   },
   "outputs": [],
   "source": [
    "fig, ax = plt.subplots(1, 2, figsize=(8, 4), tight_layout=True); \n",
    "\n",
    "def update(rseed=1.0):\n",
    "    np.random.seed(rseed)\n",
    "    img = np.random.randn(500, 500) \n",
    "    ax[1].set_title(\"Espectro de amplitud\")\n",
    "    S_img = np.log10(1e-6 + np.abs(fftpack.fft2(img)))\n",
    "    im = ax[1].imshow(fftpack.fftshift(S_img), cmap=plt.cm.Spectral_r,\n",
    "                      extent=[-250, 250, 250, -250])\n",
    "    ax[0].set_title(\"Imagen\")\n",
    "    im = ax[0].imshow(img, cmap=plt.cm.Greys_r); \n",
    "\n",
    "interact(update, rseed=IntSlider(min=0, max=100, value=0, description=\"rseed\"));"
   ]
  },
  {
   "cell_type": "markdown",
   "metadata": {
    "slideshow": {
     "slide_type": "slide"
    }
   },
   "source": [
    "#### Espectro de ruido rojo\n",
    "\n",
    "Una imagen de ruido rojo y su espectro"
   ]
  },
  {
   "cell_type": "code",
   "execution_count": null,
   "metadata": {
    "slideshow": {
     "slide_type": "fragment"
    }
   },
   "outputs": [],
   "source": [
    "fig, ax = plt.subplots(1, 2, figsize=(8, 4), tight_layout=True); \n",
    "\n",
    "def f(rseed=1.0, gamma=0.0):\n",
    "    np.random.seed(rseed)\n",
    "    red_noise = np.random.randn(500, 500) \n",
    "    rho = 1-10**-gamma\n",
    "    #for i in range(2,500):\n",
    "    #    red_noise[i, :] = rho*red_noise[i-1, :] + red_noise[i, :]\n",
    "    #    red_noise[:, i] = rho*red_noise[:, i-1] + red_noise[:, i]\n",
    "    for i in range(2, 500):\n",
    "        for j in range(2, 500):\n",
    "            red_noise[i, j] += rho*np.average(red_noise[i-2:i, j-2:j])\n",
    "    ax[1].set_title(\"Espectro de amplitud\")\n",
    "    S_img = np.log10(1e-10 + np.abs(fftpack.fft2(red_noise)))\n",
    "    im = ax[1].imshow(fftpack.fftshift(S_img), cmap=plt.cm.Spectral_r,\n",
    "                      extent=[-250, 250, 250, -250])\n",
    "    ax[0].set_title(\"Imagen\")\n",
    "    im = ax[0].imshow(red_noise, cmap=plt.cm.Greys_r); \n",
    "\n",
    "interact(f, \n",
    "         rseed=IntSlider(min=0, max=100, value=0, description=\"rseed\"),\n",
    "         gamma=FloatSlider(min=0, max=3, value=0, description=\"$\\gamma$\"));"
   ]
  },
  {
   "cell_type": "markdown",
   "metadata": {
    "slideshow": {
     "slide_type": "slide"
    }
   },
   "source": [
    "## Espectro de una imagen natural\n",
    "\n",
    "Ahora que hemos aprendido a interpretar el los espectros, analizemos una imagen natural"
   ]
  },
  {
   "cell_type": "code",
   "execution_count": null,
   "metadata": {
    "slideshow": {
     "slide_type": "fragment"
    }
   },
   "outputs": [],
   "source": [
    "img_building = color2bw(plt.imread('../images/building.jpg'))\n",
    "fig, ax = plt.subplots(1, 2, figsize=(8, 4), tight_layout=True)\n",
    "\n",
    "im = ax[0].imshow(img_building, cmap=plt.cm.Greys_r)\n",
    "S_img = fftpack.fft2(img_building)\n",
    "im = ax[1].imshow(fftpack.fftshift(np.log(np.abs(S_img)+1)), cmap=plt.cm.Spectral_r)"
   ]
  },
  {
   "cell_type": "markdown",
   "metadata": {
    "slideshow": {
     "slide_type": "fragment"
    }
   },
   "source": [
    "> Las fuerte componentes horizontal y vertical son en realidad un artefacto de borde \n",
    "\n",
    "La DFT considera que la señal 2D es eternamente periódica "
   ]
  },
  {
   "cell_type": "code",
   "execution_count": null,
   "metadata": {
    "slideshow": {
     "slide_type": "fragment"
    }
   },
   "outputs": [],
   "source": [
    "fig, ax = plt.subplots(figsize=(5, 5), tight_layout=True)\n",
    "ax.imshow(np.tile(img_building, (3, 3)), cmap=plt.cm.Greys_r)\n",
    "ax.axis('off');"
   ]
  },
  {
   "cell_type": "markdown",
   "metadata": {},
   "source": [
    "Puedes disminuir este efecto usando **enventanado**"
   ]
  },
  {
   "cell_type": "code",
   "execution_count": null,
   "metadata": {
    "slideshow": {
     "slide_type": "fragment"
    }
   },
   "outputs": [],
   "source": [
    "win = np.hanning(img_building.shape[0]).reshape(-1, 1)\n",
    "win = np.dot(win, win.T)\n",
    "\n",
    "fig, ax = plt.subplots(1, 2, figsize=(8, 4), tight_layout=True)\n",
    "im = ax[0].imshow(img_building, cmap=plt.cm.Greys_r)\n",
    "S_img = fftpack.fft2(win*img_building)\n",
    "im = ax[1].imshow(fftpack.fftshift(np.log(np.abs(S_img)+1)), cmap=plt.cm.Spectral_r)"
   ]
  },
  {
   "cell_type": "markdown",
   "metadata": {},
   "source": [
    "Finalmente:  \n",
    "\n",
    "¿Puedes reconocer a que corresponden las estructuras en el espectro del siguiente ejemplo?"
   ]
  },
  {
   "cell_type": "markdown",
   "metadata": {
    "slideshow": {
     "slide_type": "slide"
    }
   },
   "source": [
    "## Espectro de magnitud y de fase\n",
    "\n",
    "La DFT 2D es un número complejo\n",
    "\n",
    "Hasta ahora hemos estudiado su valor absoluto\n",
    "\n",
    ">  La **magnitud espectral** guarda información de la amplitud de los componentes\n",
    "\n",
    "Ahora veremos que influencia tiene la\n",
    "\n",
    "> La **fase espectral** guarda información del desfase (posición) de los componentes"
   ]
  },
  {
   "cell_type": "code",
   "execution_count": null,
   "metadata": {
    "slideshow": {
     "slide_type": "fragment"
    }
   },
   "outputs": [],
   "source": [
    "img_doge = color2bw(plt.imread('../images/doge.jpg')) \n",
    "\n",
    "plt.figure(figsize=(6, 4), tight_layout=True)\n",
    "plt.imshow(img_doge, cmap=plt.cm.Greys_r)"
   ]
  },
  {
   "cell_type": "markdown",
   "metadata": {},
   "source": [
    "¿Cómo se ven los espectros de magnitud y fase de esta imagen?"
   ]
  },
  {
   "cell_type": "code",
   "execution_count": null,
   "metadata": {
    "slideshow": {
     "slide_type": "fragment"
    }
   },
   "outputs": [],
   "source": [
    "fig, ax = plt.subplots(1, 2, figsize=(8, 4), tight_layout=True)\n",
    "S_img = fftpack.fft2(img_doge)\n",
    "im = ax[0].imshow(fftpack.fftshift(np.log(1.+np.abs(S_img))), cmap=plt.cm.Spectral_r)\n",
    "fig.colorbar(im, ax=ax[0], orientation='horizontal')\n",
    "im = ax[1].imshow(fftpack.fftshift(np.angle(S_img)), cmap=plt.cm.Spectral_r)  \n",
    "fig.colorbar(im, ax=ax[1], orientation='horizontal');"
   ]
  },
  {
   "cell_type": "markdown",
   "metadata": {
    "slideshow": {
     "slide_type": "slide"
    }
   },
   "source": [
    "> ¿Podemos reconstruir usando sólo el espectro de magnitud? ¿O usando sólo el de fase?"
   ]
  },
  {
   "cell_type": "code",
   "execution_count": null,
   "metadata": {
    "slideshow": {
     "slide_type": "fragment"
    }
   },
   "outputs": [],
   "source": [
    "def hist_eq(img, nbins=256):\n",
    "    image_hist, bins = np.histogram(img.flatten(), nbins, density=True)\n",
    "    cdf = image_hist.cumsum() \n",
    "    cdf = 255 * cdf / cdf[-1] \n",
    "    image_eq = np.interp(img.flatten(), bins[:-1], cdf)\n",
    "    return image_eq.reshape(img.shape).astype('int')\n",
    "    #return img\n",
    "\n",
    "fig, ax = plt.subplots(2, 2, figsize=(8, 6), tight_layout=True)\n",
    "for ax_ in ax.ravel():\n",
    "    ax_.axis('off')\n",
    "\n",
    "ax[0, 0].imshow(img_doge, cmap=plt.cm.Greys_r);\n",
    "S_dog = fftpack.fft2(img_doge)\n",
    "ax[0, 1].hist(img_doge.ravel(), alpha=0.5, bins=100); \n",
    "ax[0, 1].hist(hist_eq(img_doge.ravel()), alpha=0.5, bins=100);ax[0, 1].axis('on')\n",
    "reconstruct = lambda S: np.real(fftpack.ifft2(S))\n",
    "ax[1, 0].imshow(hist_eq(reconstruct(np.abs(S_dog))), cmap=plt.cm.Greys_r);\n",
    "ax[1, 1].imshow(hist_eq(reconstruct(np.exp(1j*np.angle(S_dog, deg=False)))), cmap=plt.cm.Greys_r);"
   ]
  },
  {
   "cell_type": "markdown",
   "metadata": {
    "slideshow": {
     "slide_type": "slide"
    }
   },
   "source": [
    "¿Y si intercambiamos la fase y magnitud de dos imágenes de igual tamaño?"
   ]
  },
  {
   "cell_type": "code",
   "execution_count": null,
   "metadata": {
    "slideshow": {
     "slide_type": "fragment"
    }
   },
   "outputs": [],
   "source": [
    "img_inst = color2bw(plt.imread(\"../images/InsInformatica.jpg\"))  \n",
    "fig, ax = plt.subplots(2, 2, figsize=(8, 5), tight_layout=True)\n",
    "for ax_ in ax.ravel():\n",
    "    ax_.axis('off')\n",
    "\n",
    "ax[0, 0].imshow(img_doge, cmap=plt.cm.Greys_r);\n",
    "ax[0, 1].imshow(img_inst, cmap=plt.cm.Greys_r); \n",
    "S_inf = fftpack.fft2(img_inst)\n",
    "rec_doge = fftpack.ifft2(np.abs(S_dog)*np.exp(1j*np.angle(S_inf, deg=False)))\n",
    "rec_inst = fftpack.ifft2(np.abs(S_inf)*np.exp(1j*np.angle(S_dog, deg=False)))\n",
    "ax[1, 0].set_title('Amplitud doge\\nAngulo instituto')\n",
    "ax[1, 0].imshow(np.real(rec_doge), cmap=plt.cm.Greys_r); \n",
    "ax[1, 1].set_title('Amplitud instituto\\nAngulo doge')\n",
    "ax[1, 1].imshow(np.real(rec_inst), cmap=plt.cm.Greys_r); "
   ]
  },
  {
   "cell_type": "code",
   "execution_count": null,
   "metadata": {},
   "outputs": [],
   "source": []
  }
 ],
 "metadata": {
  "kernelspec": {
   "display_name": "Python 3",
   "language": "python",
   "name": "python3"
  },
  "language_info": {
   "codemirror_mode": {
    "name": "ipython",
    "version": 3
   },
   "file_extension": ".py",
   "mimetype": "text/x-python",
   "name": "python",
   "nbconvert_exporter": "python",
   "pygments_lexer": "ipython3",
   "version": "3.8.1"
  }
 },
 "nbformat": 4,
 "nbformat_minor": 2
}
