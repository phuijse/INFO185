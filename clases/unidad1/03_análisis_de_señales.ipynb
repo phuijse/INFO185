{
 "cells": [
  {
   "cell_type": "markdown",
   "metadata": {},
   "source": [
    "# Análisis de Señales \n",
    "\n",
    "## Contenidos:\n",
    "\n",
    "- Covarianza, correlación y convolución\n",
    "- Transformada de Fourier discreta\n",
    "- Transformada rápida de Fourier"
   ]
  },
  {
   "cell_type": "markdown",
   "metadata": {},
   "source": [
    "### Notación\n",
    "\n",
    "- Función de tiempo continuo: $g(t)$\n",
    "- Función de tiempo discreto: $g[n] = g(t_n)$ con $t_n = n T_s, n\\in [0, N]$\n",
    "- Tiempo o intervalo de muestreo: $T_s$\n",
    "\n",
    "\n",
    "<img src=\"../images/sampledsignal.png\" width=\"600\">\n"
   ]
  },
  {
   "cell_type": "markdown",
   "metadata": {},
   "source": [
    "## Comparando señales: covarianza y correlación cruzada\n",
    "\n",
    "Podemos analizar la similitud entre dos señales $g(\\cdot)$ y $f(\\cdot)$ en función de un retardo $\\tau$ usando el la covarianza cruzada\n",
    "\n",
    "$$ \n",
    "\\text{COV}_{gf}(\\tau) = \\mathbb{E}[(g(t)-\\mu_g)(f(t + \\tau)-\\mu_f)], \n",
    "$$\n",
    "\n",
    "y para procesos discretos con retardo $m$:\n",
    "\n",
    "$$\n",
    "\\text{COV}_{gf}[m] = \\frac{1}{N} \\sum_{n=1}^N (g[n] - \\bar g)(f[n+m] - \\bar f),\n",
    "$$\n",
    "\n",
    "donde la media de la señal se estima como $ \\bar g = \\frac{1}{N} \\sum_{n=1}^N g[n]$.\n",
    "\n",
    "Si las señales tienen distinta escala es conveniente usar la correlación cruzada\n",
    "\n",
    "$$ \n",
    "\\rho_{gf}[m] = \\frac{\\text{COV}_{gf}[m]}{\\hat \\sigma_g \\hat \\sigma_f}, \n",
    "$$\n",
    "\n",
    "donde la desviación estándar de la señal se estima como $\\hat \\sigma_g = \\frac{1}{N} \\sqrt{\\sum_{n=1}^N (g[n] - \\bar g)^2}$\n",
    "\n",
    "> Podemos calcular la covarianza entre dos señales usando la función `np.correlate` de *NumPy*"
   ]
  },
  {
   "cell_type": "code",
   "execution_count": null,
   "metadata": {},
   "outputs": [],
   "source": [
    "%matplotlib notebook\n",
    "import numpy as np\n",
    "import matplotlib.pyplot as plt"
   ]
  },
  {
   "cell_type": "code",
   "execution_count": null,
   "metadata": {
    "scrolled": true
   },
   "outputs": [],
   "source": [
    "# Ejemplo: \n",
    "# Correlación entre dos señales para encontrar su desface\n",
    "\n",
    "x = np.linspace(0.0, 5.0, num=100)\n",
    "y1 = np.exp(-4.0*(x-1.5)**2) + 0.1*np.random.randn(len(x))\n",
    "y2 = np.exp(-4.0*(x-2.5)**2) + 0.1*np.random.randn(len(x))\n",
    "tau = np.linspace(-x[-1], x[-1], 2*len(x)-1)\n",
    "crosscorr = np.correlate(y1, y2, mode='full')/(len(x)*np.std(y1)*np.std(y2))\n",
    "\n",
    "fig, ax = plt.subplots(1, 2, figsize=(8, 2.5), tight_layout=True)\n",
    "ax[0].plot(x, y1, label='y1')\n",
    "ax[0].plot(x, y2, label='y2')\n",
    "ax[0].legend()\n",
    "ax[1].plot(tau, crosscorr);\n",
    "idx_max = np.argmax(crosscorr)\n",
    "ax[1].plot([tau[idx_max]]*2, [np.amin(crosscorr), np.amax(crosscorr)], '--')"
   ]
  },
  {
   "cell_type": "markdown",
   "metadata": {},
   "source": [
    "### Autocorrelación\n",
    "\n",
    "También es de interés comparar una señal consigo misma usando la autocorrelación \n",
    "\n",
    "$$ \n",
    "\\rho_{gg}[m] = \\frac{\\text{COV}_{gg}[m]}{\\hat \\sigma_g^2}= \\frac{1}{(N-m) \\hat \\sigma_g^2} \\sum_{n=1}^{N-m} (g[n] - \\bar g)(g[n+m] - \\bar g), \n",
    "$$\n",
    "\n",
    "Esto nos permite analizar en que momento $m$ la señal se parece más a si misma: **periodicidad**"
   ]
  },
  {
   "cell_type": "code",
   "execution_count": null,
   "metadata": {},
   "outputs": [],
   "source": [
    "# Ejemplo: \n",
    "# El periódo de la señal corresponde al segundo máximo de la autocorrelación\n",
    "\n",
    "x = np.linspace(0.0, 10.0, num=100)\n",
    "y = np.cos(2.0*np.pi*1*x) + 0.5*np.cos(2.0*np.pi*2*x) + 0.5*np.random.randn(len(x))\n",
    "\n",
    "tau = np.linspace(0, x[-1], len(x))\n",
    "autocorr = np.correlate(y, y, mode='full')[len(x)-1:]/(len(x)*np.var(y))\n",
    "\n",
    "fig, ax = plt.subplots(1, 2, figsize=(8, 2.5), tight_layout=True)\n",
    "ax[0].plot(x, y)\n",
    "ax[1].plot(tau, autocorr);"
   ]
  },
  {
   "cell_type": "markdown",
   "metadata": {},
   "source": [
    "## Convolución\n",
    "\n",
    "La operación de producto punto entre versiones desplazadas de funciones se llama **convolución** y se denota con $*$\n",
    "\n",
    "$$\n",
    "(f*g) (\\tau) = \\int g(t) f(\\tau - t) \\,dt = \\int f(t) g(\\tau - t) \\,dt\n",
    "$$\n",
    "\n",
    "\n",
    "La convolución discreta se define como\n",
    "\n",
    "$$\n",
    "(f*g)[m] = \\sum_n f[n] g[n-m]\n",
    "$$\n",
    "\n",
    "las funciónes de covarianza y correlación se pueden escribir como convoluciones\n",
    "\n",
    "> Podemos realizar la convolución usando la función `np.convolve` de NumPy"
   ]
  },
  {
   "cell_type": "code",
   "execution_count": null,
   "metadata": {},
   "outputs": [],
   "source": [
    "from matplotlib import animation\n",
    "fig, ax = plt.subplots(1, 2, figsize=(8, 2.5), tight_layout=True)\n",
    "t = np.arange(-4, 4, step=1e-2)\n",
    "\n",
    "def square_pulse(t, a=0, T=1):\n",
    "    s = np.zeros(shape=t.shape)\n",
    "    s[np.absolute(t-a)<T] = 0.5 + 0.5*(t[np.absolute(t-a)<T]-a)/T \n",
    "    return s\n",
    "lap_pulse = lambda t, a=0, s=1 : np.exp(-np.absolute(t-a)/s)\n",
    "conv_s = np.convolve(square_pulse(t), lap_pulse(t), mode='same')\n",
    "\n",
    "def update(a = 0): \n",
    "    ax[0].cla(); ax[1].cla()\n",
    "    p1, p2 = square_pulse(t, 0.1*a - 4), lap_pulse(t)\n",
    "    ax[0].plot(t, p2); ax[0].plot(t, p1); \n",
    "    ax[0].fill_between(t, 0, p1*p2, alpha=0.5)\n",
    "    ax[1].plot(t, conv_s[::-1]); ax[1].scatter(0.1*a -4, np.sum(p1*p2), s=100, c='k')\n",
    "    \n",
    "anim = animation.FuncAnimation(fig, update, frames=80, interval=100, blit=True)"
   ]
  },
  {
   "cell_type": "markdown",
   "metadata": {},
   "source": [
    "## Transformada de Fourier\n",
    "\n",
    "Una herramienta de gran relevancia para el análisis de señales es la Transformada de Fourier\n",
    "\n",
    "$$\n",
    "\\begin{align}\n",
    "G(f) &= \\mathcal{F}[g(t)] = \\int_{-\\infty}^{\\infty} g(t) \\exp(-j2\\pi f t) \\,dt \\\\\n",
    "&= \\int_{-\\infty}^{\\infty} g(t) \\cos(2\\pi f t) \\,dt - j \\int_{-\\infty}^{\\infty} g(t) \\sin(2\\pi f t) \\,dt\n",
    "\\end{align}\n",
    "$$\n",
    "\n",
    "- Usamos el operador $\\mathcal{F}$ para denotar la transformada\n",
    "- Tipicamente se usa $G$ para la transformación de $g$\n",
    "- $G$ es ahora una función de la frecuencia\n",
    "\n",
    "> Usando la transformada de Fourier podemos analizar las frecuencias de oscilación predominantes de una señal"
   ]
  },
  {
   "cell_type": "code",
   "execution_count": null,
   "metadata": {},
   "outputs": [],
   "source": [
    "def matrix_DFT(signal):\n",
    "    N = len(signal)\n",
    "    W_N = np.exp(-1j*2*np.pi/N)\n",
    "    n = np.arange(N)\n",
    "    Omega = W_N**(n*n.reshape(1,-1).T)\n",
    "    S = np.dot(Omega, signal)\n",
    "    return np.dot(Omega, signal)\n",
    "\n",
    "Fs = 20\n",
    "t = np.arange(0.0, 10.0, step=1/Fs)\n",
    "g = np.cos(2.0*np.pi*1*t) + np.cos(2.0*np.pi*1.5*t) + 1.0*np.random.randn(len(t))\n",
    "f = np.linspace(0, Fs/2, num=len(t)//2+1)\n",
    "Gabs = np.abs(matrix_DFT(g))\n",
    "\n",
    "fig, ax = plt.subplots(1, 2, figsize=(8, 2.5), tight_layout=True)\n",
    "ax[0].plot(t, g)\n",
    "ax[0].set_xlabel(\"Tiempo [s]\")\n",
    "ax[1].plot(f, Gabs[:len(f)])\n",
    "ax[1].set_xlabel(\"Frecuencia [Hz]\");"
   ]
  },
  {
   "cell_type": "markdown",
   "metadata": {},
   "source": [
    "## Propiedades y teoremas \n",
    "\n",
    "\n",
    "Es usual descomponer la transformada de Fourier en el espectro de amplitud y el espectro de fase\n",
    "\n",
    "$$\n",
    "G(f) = |G(f)| \\exp({j\\varphi(f)})\n",
    "$$\n",
    "\n",
    "Donde \n",
    "- $|G(f)|$ es el espectro de amplitud\n",
    "-  $\\varphi(f)$ es el espectro de fase (ángulo)\n",
    "\n",
    "**Propiedad:** La transformada de Fourier es invertible\n",
    "\n",
    "$$\n",
    "\\begin{align}\n",
    "g(t) &= \\mathcal{F}^{-1}[G(f)] =\\int_{-\\infty}^{\\infty} G(f) \\exp(j2\\pi f t) \\,df \\\\\n",
    "&= \\int_{-\\infty}^{\\infty} G(f) \\cos(2\\pi f t) \\,df + j \\int_{-\\infty}^{\\infty} G(f) \\sin(2\\pi f t) \\,df\n",
    "\\end{align}\n",
    "$$\n",
    "\n",
    "**Propiedad:** La convolución en el tiempo se convierte en multiplicación en frecuencia y viceverza (Lathi & Ding, 2009, Sec 3.3.6)\n",
    "\n",
    "$$\n",
    "\\mathcal{F}[g(t)*y(t)] = \\mathcal{F}[g(t)] \\mathcal{F}[y(t)] = G(f) Y(f)\n",
    "$$\n",
    "\n",
    "**Propiedad:** La transformada de Fourier es un operador lineal\n",
    "$$\n",
    "\\begin{align}\n",
    "\\mathcal{F}[a g_1(t) + b g_2(t) ] &= a\\mathcal{F}[g_1(t)] + b \\mathcal{F}[g_2(t) ] \\\\ &= a G_1(f) + b G_2(f)\n",
    "\\end{align}\n",
    "$$\n",
    "\n",
    "**Teorema de Parseval/Teorema de energia de Rayleigh**: \n",
    "\n",
    "$$\n",
    "\\int_{-\\infty}^{\\infty} |g(t)|^2 \\,dt = \\int_{-\\infty}^{\\infty} |G(f)|^2 \\,df\n",
    "$$\n",
    "\n",
    "> La energía de una señal se preserva. La transformada de Fourier no pierde información. (Lathi & Ding, 2009, Sec 3.7.1)\n",
    "\n",
    "**Teorema de Wiener-Khinchin**:\n",
    "\n",
    "$$\n",
    "|G(f)|^2 = \\int_{-\\infty}^{\\infty} \\rho_{gg}(\\tau) \\exp({-j2\\pi f \\tau }) \\,dt = \\mathcal{F}[\\rho_{gg}(\\tau)]\n",
    "$$\n",
    "$$\n",
    "\\rho_{gg}(\\tau) = \\int_{-\\infty}^{\\infty} |G(f)|^2 \\exp({j2\\pi\\tau f}) \\,df  = \\mathcal{F}^{-1}[|G(f)|^2]\n",
    "$$\n",
    "\n",
    "> La transformada de Fourier de la autocorrelación es la *densidad espectral de potencia* y viceverza (Lathi & Ding, 2009, 3.7.5)\n",
    "\n",
    " La densidad espectral es la potencia asignada a cada frecuencia de la señal\n"
   ]
  },
  {
   "cell_type": "markdown",
   "metadata": {},
   "source": [
    "## Transformada de Fourier discreta (DFT)\n",
    "\n",
    "Para computar la transformada de Fourier sobre señales muestreadas (discretas) usamos la DFT\n",
    "\n",
    "El resultado es una transformada de Fourier definida en un conjunto discreto de frecuencias\n",
    "\n",
    "Sea una señal discreta $g[n]$ con  $n \\in [0, N-1]$ y tiempo de muestreo $T_s$, es decir $t[n] = n T_s$\n",
    "\n",
    "La DFT se define como\n",
    "\n",
    "$$\n",
    "G[k] = \\sum_{n=0}^{N-1} g[n]  \\exp \\left(-j2\\pi f[k] t[n] \\right) = \\sum_{n=0}^{N-1} g[n] \\exp \\left( -j 2\\pi \\frac{k n}{N} \\right) ,\n",
    "$$\n",
    "\n",
    "donde \n",
    "- $f[k] = k f_0 ~~ \\forall k \\in [-\\frac{(N-1)}{2}, \\frac{(N-1)}{2}]$\n",
    "- $f_0 = \\frac{F_s}{N}$\n",
    "- $F_s = \\frac{1}{T_s}$\n",
    "- $t[n] = n T_s$\n",
    "\n",
    "La DFT es también invertible\n",
    "\n",
    "$$\n",
    "g[n] = \\frac{1}{N} \\sum_{k=0}^{N-1} G[k]  \\exp \\left( j2\\pi \\frac{k n}{N} \\right)\n",
    "$$\n",
    "\n",
    "Notar que N puntos en el tiempo se mapean con N frecuencias independientes\n",
    "\n",
    "Para tener una notación más clara definiremos\n",
    "\n",
    "$$\n",
    "W_N = \\exp \\left( -j \\frac{2\\pi}{N} \\right)\n",
    "$$\n",
    "\n",
    "Luego podemos escribrir la DFT como\n",
    "\n",
    "\n",
    "$$\n",
    "G[k] = \\sum_{n=0}^{N-1} g[n] W_N^{kn}\n",
    "$$"
   ]
  },
  {
   "cell_type": "markdown",
   "metadata": {},
   "source": [
    "## Transformada de Fourier discreta (DFT)\n",
    "\n",
    "Podemos escribir\n",
    "$$\n",
    "G[k] = \\sum_{n=0}^{N-1} g[n] W_N^{kn}\n",
    "$$\n",
    "como \n",
    "\n",
    "$$\n",
    "\\begin{align}\n",
    "\\begin{pmatrix} \n",
    "G[0] \\\\\n",
    "G[1] \\\\\n",
    "G[2] \\\\\n",
    "\\vdots \\\\\n",
    "G[N-1] \\\\\n",
    "\\end{pmatrix} &=\n",
    "\\begin{pmatrix}\n",
    "1 & 1 & 1 & \\cdots & 1 \\\\\n",
    "1 & W_N & W_N^2 & \\cdots & W_N^{N-1} \\\\\n",
    "1 & W_N^2 & W_N^4 & \\cdots & W_N^{N-2} \\\\\n",
    "\\vdots & \\dots & \\dots & \\ddots &  \\vdots \\\\\n",
    "1 & W_N^{N-1} & W_N^{N-2} & \\cdots & W_N \\\\\n",
    "\\end{pmatrix} \n",
    "\\begin{pmatrix} \n",
    "g[0] \\\\\n",
    "g[1] \\\\\n",
    "g[2] \\\\\n",
    "\\vdots \\\\\n",
    "g[N-1] \\\\\n",
    "\\end{pmatrix} \\nonumber  \\\\\n",
    "G &= \\Omega g,\n",
    "\\end{align}\n",
    "$$\n",
    "\n",
    "que corresponde a $N$ tiempos definidos como \n",
    "$$\n",
    "t = 0, ~ T_s, ~2 T_s , ~3 T_s, \\ldots, ~(N-1) T_s \n",
    "$$\n",
    "y a $N$ frecuencias definidas como\n",
    "$$\n",
    "f = -\\frac{F_s}{2}, \\ldots,  0, ~\\frac{F_s}{N}, ~2 \\frac{F_s}{N} , ~3 \\frac{F_s}{N}, \\ldots, ~\\frac{F_s}{2} \n",
    "$$\n",
    "\n"
   ]
  },
  {
   "cell_type": "markdown",
   "metadata": {},
   "source": [
    "En el ejemplo anterior implementamos la DFT como una multiplicación matricial usando Numpy\n",
    "\n",
    "- Multiplicación entre una matriz de NxN y un vector de Nx1\n",
    "- N sumas de N multiplicaciones, complejidad cuadrática"
   ]
  },
  {
   "cell_type": "code",
   "execution_count": null,
   "metadata": {},
   "outputs": [],
   "source": [
    "def matrix_DFT(signal):\n",
    "    N = len(signal)\n",
    "    W_N = np.exp(-1j*2*np.pi/N)\n",
    "    n = np.arange(N)\n",
    "    Omega = W_N**(n*n.reshape(1,-1).T)\n",
    "    S = np.dot(Omega, signal)\n",
    "    return S"
   ]
  },
  {
   "cell_type": "markdown",
   "metadata": {},
   "source": [
    "## Transformada rápida de Fourier\n",
    "\n",
    "La computación de la DFT tiene complejidad $\\mathcal{O}(N^2)$\n",
    "\n",
    "> Existen varios algoritmos exactos con complejidad $\\mathcal{O}(N\\log N)$ para calcular la DFT: La *Fast Fourier Transform* (FFT)\n",
    "\n",
    "El algoritmo de FFT más conocido es el de Cooley-Tukey, en donde se obtiene una FFT recursiva que explota las periodicidades en la matriz $\\Omega$\n",
    "\n",
    "$$\n",
    "\\begin{align}\n",
    "G[k] &=  \\sum_{n=0}^{N-1} g_n \\exp \\left(-j2\\pi \\frac{k n}{N} \\right) \\\\\n",
    "&= \\sum_{n=0}^{N/2-1} g_{2n} \\exp \\left(-j2\\pi \\frac{k 2n}{N}  \\right) + \\sum_{n=0}^{N/2-1} g_{2n+1} \\exp \\left(-j2\\pi \\frac{k (2n+1)}{N} \\right) \\\\\n",
    "&= \\sum_{n=0}^{N/2-1} g_{2n} \\exp \\left(-j2\\pi \\frac{k n}{N/2} \\right) + \\exp \\left(-j2\\pi  \\frac{k}{N} \\right) \\sum_{k=0}^{N/2-1} g_{2n+1} \\exp \\left(-j2\\pi \\frac{k n}{N/2} \\right) \\\\ \n",
    "&= G_E[k] + \\exp \\left( -j2\\pi \\frac{k}{N} \\right) G_O[k] ~~ \\forall k \\in [0,N/2] \n",
    "\\end{align} \n",
    "$$\n",
    "Notar que se calculan dos \"medias\" DFT"
   ]
  },
  {
   "cell_type": "markdown",
   "metadata": {},
   "source": [
    "Para continuar usaremos la siguiente propiedad de la exponencial compleja\n",
    "\n",
    "$$\n",
    " \\exp \\left(-j2\\pi \\frac{k+ N/2}{N}\\right) = \\exp \\left(-j2\\pi \\frac{k}{N} \\right) \\exp \\left(-j\\pi\\right) =  - \\exp \\left(-j2\\pi \\frac{k}{N} \\right)\n",
    "$$\n",
    "\n",
    "Además por periodicidad/simetría de la DFT\n",
    "\n",
    "$$\n",
    "\\begin{align}\n",
    "G_E[k + N/2] &=  \\sum_{n=0}^{N/2-1} g_{2n} \\exp \\left( -j2\\pi \\frac{(k+ N/2)n}{N/2} \\right) \\\\\n",
    "&= \\sum_{n=0}^{N/2-1} g_{2n} \\exp \\left(-j2\\pi \\frac{k n}{N/2} \\right)  \\exp \\left(-j2\\pi n \\right) = G_E[k]\n",
    "\\end{align}\n",
    "$$\n",
    "Finalmente\n",
    "\n",
    "$$\n",
    "\\begin{align}\n",
    "G[k] &=  G_E[k] + \\exp \\left( -j2\\pi \\frac{k}{N} \\right) G_O[k] ~~~ \\forall k \\in [0,N/2] \\\\\n",
    "G[k + N/2] &=  G_E[k + N/2] - \\exp \\left( -j2\\pi \\frac{k}{N} \\right) G_O[k + N/2] \\\\\n",
    " &=  G_E[k] - \\exp \\left( -j2\\pi \\frac{k}{N} \\right) G_O[k] \\\\\n",
    "\\end{align}\n",
    "$$\n",
    "\n",
    "##### En resumen\n",
    "\n",
    "Para obtener $G[k]$ y $G[k + N/2]$:\n",
    "- Calculamos $G_E[k]$ y $ \\exp \\left( -j2\\pi \\frac{k}{N} \\right) G_O[k]$ \n",
    "- Sumamos o restamos los términos, respectivamente\n",
    "\n",
    "> Reducimos los cálculos necesarios a la mitad\n"
   ]
  },
  {
   "cell_type": "code",
   "execution_count": null,
   "metadata": {},
   "outputs": [],
   "source": [
    "t = np.linspace(0, 10, num=10)\n",
    "x = np.random.randn(len(t))\n",
    "plt.figure(figsize=(6, 2), tight_layout=True)\n",
    "plt.plot(t, x, c='k', alpha=0.5)\n",
    "plt.scatter(t[::2], x[::2], marker='x', zorder=100)\n",
    "plt.scatter(t[1::2], x[1::2], marker='o', zorder=100);"
   ]
  },
  {
   "cell_type": "code",
   "execution_count": null,
   "metadata": {},
   "outputs": [],
   "source": [
    "np.set_printoptions(precision=3)\n",
    "N = len(x)\n",
    "W_N = np.exp(-1j*2*np.pi/N)\n",
    "\n",
    "S = matrix_DFT(x)\n",
    "Se = matrix_DFT(x[0::2]) # Transformada de Fourier de los pares\n",
    "So = matrix_DFT(x[1::2]) # Transformada de Fourier de los impares\n",
    "display(S[:N//2])\n",
    "display(Se + W_N**np.arange(N//2)*So)\n",
    "display(np.allclose(S[:N//2], Se + W_N**np.arange(N//2)*So))\n",
    "display(S[N//2:])\n",
    "display(Se - W_N**np.arange(N//2)*So)\n",
    "display(np.allclose(S[N//2:], Se - W_N**np.arange(N//2)*So))"
   ]
  },
  {
   "cell_type": "markdown",
   "metadata": {},
   "source": [
    "Podemos continuar dividiendo y ahorrando computos hasta llegar a $N\\log N$ productos\n",
    "<img src=\"../images/FFT.gif\" width=\"600\">"
   ]
  },
  {
   "cell_type": "markdown",
   "metadata": {},
   "source": [
    "#### Implementaciones de la FFT \n",
    "\n",
    "- Python: numpy.fft y [scipy.fftpack](https://docs.scipy.org/doc/scipy/reference/generated/scipy.fftpack.fft.html#scipy.fftpack.fft)\n",
    "- C: The Fastest Fourier Transform in the WEst (FFTW)\n",
    "\n",
    "Nosotros usaremos:\n",
    "\n",
    "<img src=\"../images/fftpack_scipy.png\" width=\"600\">"
   ]
  },
  {
   "cell_type": "code",
   "execution_count": null,
   "metadata": {},
   "outputs": [],
   "source": [
    "from scipy import fftpack as fft"
   ]
  },
  {
   "cell_type": "markdown",
   "metadata": {},
   "source": [
    "### Tutorial rápido de fftpack\n",
    "\n",
    "Para obtener la transformada de Fourier usando el modulo `fftpack` de scipy usamos \n",
    "\n",
    "- `fftpack.fft`: Calcula la transformada directa\n",
    "- `fftpack.ifft`: Calcula la transformada inversa\n",
    "- `fftpack.fftfreq`: Crea una arreglo de frecuencias (conveniente cuando se quiere graficar el espectro)\n",
    "- `fftpack.fftshift` e `ifftshift`: Cambia el orden de los componentes del espectro de $[0,\\ldots, F_s/2, -F_s/2, \\ldots, -F_s/N]$ a $[-F_s/2, \\ldots, 0, \\ldots, F_s/2]$"
   ]
  },
  {
   "cell_type": "markdown",
   "metadata": {},
   "source": [
    "**Comparación entre implementación matricial usando NumPy y FFT de scipy**\n",
    "\n",
    "Primero creamos una serie de tiempo con frecuencia de muestreo $F_s$"
   ]
  },
  {
   "cell_type": "code",
   "execution_count": null,
   "metadata": {},
   "outputs": [],
   "source": [
    "Fs = 20\n",
    "t = np.arange(0.0, 10.0, step=1/Fs)\n",
    "g = np.cos(2.0*np.pi*1*t) + np.cos(2.0*np.pi*1.5*t) + 1.0*np.random.randn(len(t))\n",
    "fig, ax = plt.subplots(figsize=(8, 2.5), tight_layout=True)\n",
    "ax.plot(t, g);"
   ]
  },
  {
   "cell_type": "markdown",
   "metadata": {},
   "source": [
    "Para calcular la FFT usamos"
   ]
  },
  {
   "cell_type": "code",
   "execution_count": null,
   "metadata": {},
   "outputs": [],
   "source": [
    "G = fft.fft(g)\n",
    "display(G[:10])"
   ]
  },
  {
   "cell_type": "markdown",
   "metadata": {},
   "source": [
    "La FFT es imaginaria, podemos recuperar \n",
    "- el espectro de magnitud usando la función `np.abs`\n",
    "- el espectro de fase usando `np.angle`\n",
    "\n",
    "Para generar el vector de frecuencias asociado a la FFT usamos"
   ]
  },
  {
   "cell_type": "code",
   "execution_count": null,
   "metadata": {},
   "outputs": [],
   "source": [
    "freq = fft.fftfreq(n=len(g), d=1/Fs)\n",
    "display(freq[:10])"
   ]
  },
  {
   "cell_type": "markdown",
   "metadata": {},
   "source": [
    "Finalmente dibujamos los espectros de magnitud"
   ]
  },
  {
   "cell_type": "code",
   "execution_count": null,
   "metadata": {},
   "outputs": [],
   "source": [
    "fig, ax = plt.subplots(figsize=(8, 2.5), tight_layout=True)\n",
    "ax.plot(freq, np.abs(matrix_DFT(g)), label='Numpy matmul')\n",
    "ax.plot(freq, np.abs(fft.fft(g)), label='fftpack')\n",
    "ax.set_xlabel(\"Frecuencia [Hz]\")\n",
    "plt.legend(loc=1);"
   ]
  },
  {
   "cell_type": "markdown",
   "metadata": {},
   "source": [
    "y comparamos los tiempos de cómputo\n",
    "\n",
    "¿Cuántos órdenes de magnitud más rápido es la FFT?"
   ]
  },
  {
   "cell_type": "code",
   "execution_count": null,
   "metadata": {},
   "outputs": [],
   "source": [
    "len(g)"
   ]
  },
  {
   "cell_type": "code",
   "execution_count": null,
   "metadata": {},
   "outputs": [],
   "source": [
    "%timeit -n 10 np.abs(matrix_DFT(g))\n",
    "%timeit -n 10 np.abs(fft.fft(g))"
   ]
  },
  {
   "cell_type": "markdown",
   "metadata": {},
   "source": [
    "# Anexo\n",
    "\n",
    "Diferencia entre `valid`, `same` y `full` al hacer `correlate` o `convolve`\n",
    "\n"
   ]
  },
  {
   "cell_type": "code",
   "execution_count": null,
   "metadata": {},
   "outputs": [],
   "source": [
    "%matplotlib notebook\n",
    "import numpy as np\n",
    "import matplotlib.pyplot as plt\n",
    "\n",
    "from matplotlib import animation\n",
    "fig, ax = plt.subplots(2, 1, figsize=(6, 3), tight_layout=True, sharex=True)\n",
    "x = np.arange(7)\n",
    "y1 = np.array([1, 2, 3])\n",
    "y2 = np.array([-1, -1])\n",
    "\n",
    "def update(k): \n",
    "    ax[0].cla(); \n",
    "    ax[0].grid()\n",
    "    ax[0].scatter(x[~(np.pad(y1, 2)==0)], y1)\n",
    "    ax[0].set_xlim([-0.5, 6.5])\n",
    "    y3 = np.roll(np.append(y2, [0, 0 ,0, 0, 0]), k)\n",
    "    ax[0].scatter(x[~(y3==0)],y3[~(y3==0)])\n",
    "    ax[1].cla();\n",
    "    corr = np.correlate(y1, y2, mode='full')\n",
    "    ax[1].scatter(x[1:-2], corr, marker='o', s=150, label='full')\n",
    "    ax[1].scatter(x[1:-3], corr[:-1], marker='o',s=100, label='same')\n",
    "    ax[1].scatter(x[2:-3], corr[1:-1], marker='o',s=50, label='valid')\n",
    "    if k>0 and k<=len(corr):\n",
    "        ax[1].scatter(k, corr[k-1], s=50, c='k', marker='x')\n",
    "    ax[1].legend(loc=4)\n",
    "    ax[1].grid()\n",
    "    \n",
    "anim = animation.FuncAnimation(fig, update, frames=6, interval=500, blit=True, repeat=False)\n",
    "#anim.save('animation_same_valid_full.gif', dpi=80, writer='imagemagick')"
   ]
  }
 ],
 "metadata": {
  "kernelspec": {
   "display_name": "Python 3",
   "language": "python",
   "name": "python3"
  },
  "language_info": {
   "codemirror_mode": {
    "name": "ipython",
    "version": 3
   },
   "file_extension": ".py",
   "mimetype": "text/x-python",
   "name": "python",
   "nbconvert_exporter": "python",
   "pygments_lexer": "ipython3",
   "version": "3.8.1"
  }
 },
 "nbformat": 4,
 "nbformat_minor": 4
}
