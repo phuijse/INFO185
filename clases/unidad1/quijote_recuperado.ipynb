{
 "cells": [
  {
   "cell_type": "markdown",
   "metadata": {},
   "source": [
    "Leemos el dendograma de la primera linea y el texto codificado de la segunda linea\n",
    "\n",
    "Convertimos el texto codificado en un string de bits"
   ]
  },
  {
   "cell_type": "code",
   "execution_count": null,
   "metadata": {},
   "outputs": [],
   "source": [
    "import ast\n",
    "with open(\"../quijote_comprimido.bin\", \"rb\") as f:    \n",
    "    dendograma = ast.literal_eval(f.readline().decode())\n",
    "    texto_codificado = f.readlines() \n",
    "    texto_codificado = [valor for k in range(len(texto_codificado)) for valor in texto_codificado[k]]\n",
    "    texto_codificado = [\"{0:08b}\".format(valor) for valor in texto_codificado]\n",
    "    texto_codificado = ''.join(texto_codificado) \n",
    "    \n",
    "display(texto_codificado[:1000])"
   ]
  },
  {
   "cell_type": "markdown",
   "metadata": {},
   "source": [
    "Para decodifir necesitamos el dendograma inverso"
   ]
  },
  {
   "cell_type": "code",
   "execution_count": null,
   "metadata": {},
   "outputs": [],
   "source": [
    "dendograma_inverso =  {codigo: simbolo for simbolo, codigo in dendograma.items()}\n",
    "display(dendograma_inverso)"
   ]
  },
  {
   "cell_type": "markdown",
   "metadata": {},
   "source": [
    "Vamos comparando bit a bit hasta recuperar el texto original"
   ]
  },
  {
   "cell_type": "code",
   "execution_count": null,
   "metadata": {},
   "outputs": [],
   "source": [
    "codigo = \"\"\n",
    "texto = \"\"\n",
    "for bit in texto_codificado:\n",
    "    codigo += bit\n",
    "    if codigo in dendograma_inverso:\n",
    "        texto += dendograma_inverso[codigo]\n",
    "        codigo = \"\"\n",
    "print(texto)"
   ]
  },
  {
   "cell_type": "code",
   "execution_count": null,
   "metadata": {},
   "outputs": [],
   "source": []
  }
 ],
 "metadata": {
  "kernelspec": {
   "display_name": "Python 3",
   "language": "python",
   "name": "python3"
  },
  "language_info": {
   "codemirror_mode": {
    "name": "ipython",
    "version": 3
   },
   "file_extension": ".py",
   "mimetype": "text/x-python",
   "name": "python",
   "nbconvert_exporter": "python",
   "pygments_lexer": "ipython3",
   "version": "3.8.1"
  }
 },
 "nbformat": 4,
 "nbformat_minor": 4
}
